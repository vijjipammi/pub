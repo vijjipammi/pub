{
  "nbformat": 4,
  "nbformat_minor": 0,
  "metadata": {
    "kernelspec": {
      "display_name": "Python 3",
      "language": "python",
      "name": "python3"
    },
    "language_info": {
      "codemirror_mode": {
        "name": "ipython",
        "version": 3
      },
      "file_extension": ".py",
      "mimetype": "text/x-python",
      "name": "python",
      "nbconvert_exporter": "python",
      "pygments_lexer": "ipython3",
      "version": "3.7.4"
    },
    "colab": {
      "name": "TimeSeries-StockMarket-Prediction-using-LSTM.ipynb",
      "provenance": [],
      "collapsed_sections": [],
      "toc_visible": true,
      "include_colab_link": true
    }
  },
  "cells": [
    {
      "cell_type": "markdown",
      "metadata": {
        "id": "view-in-github",
        "colab_type": "text"
      },
      "source": [
        "<a href=\"https://colab.research.google.com/github/vijjipammi/pub/blob/main/TimeSeries_StockMarket_Prediction_using_LSTM.ipynb\" target=\"_parent\"><img src=\"https://colab.research.google.com/assets/colab-badge.svg\" alt=\"Open In Colab\"/></a>"
      ]
    },
    {
      "cell_type": "markdown",
      "metadata": {
        "id": "PHDwSOKTjeox"
      },
      "source": [
        "## TIME SERIES - Stock Market Prediction using LSTMs/RNN"
      ]
    },
    {
      "cell_type": "code",
      "metadata": {
        "_cell_guid": "b1076dfc-b9ad-4769-8c92-a6c4dae69d19",
        "_uuid": "8f2839f25d086af736a60e9eeb907d3b93b6e0e5",
        "id": "oDm-Ysk1jeox"
      },
      "source": [
        "import numpy as np # linear algebra\n",
        "import pandas as pd # data processing\n",
        "import matplotlib.pyplot as plt # data visualization\n",
        "import os"
      ],
      "execution_count": null,
      "outputs": []
    },
    {
      "cell_type": "markdown",
      "metadata": {
        "id": "AkUe1ViBSUJm"
      },
      "source": [
        "## Download the Stock Data MSFT"
      ]
    },
    {
      "cell_type": "code",
      "metadata": {
        "colab": {
          "resources": {
            "http://localhost:8080/nbextensions/google.colab/files.js": {
              "data": "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",
              "ok": true,
              "headers": [
                [
                  "content-type",
                  "application/javascript"
                ]
              ],
              "status": 200,
              "status_text": ""
            }
          },
          "base_uri": "https://localhost:8080/",
          "height": 73
        },
        "id": "SHzQOTZijs-q",
        "outputId": "88a21125-fc2b-466e-b06a-54c83627680d"
      },
      "source": [
        "from google.colab import files\n",
        "\n",
        "uploaded = files.upload()\n"
      ],
      "execution_count": null,
      "outputs": [
        {
          "output_type": "display_data",
          "data": {
            "text/html": [
              "\n",
              "     <input type=\"file\" id=\"files-0d51d6a2-5dec-4592-b86d-c7345de02c34\" name=\"files[]\" multiple disabled\n",
              "        style=\"border:none\" />\n",
              "     <output id=\"result-0d51d6a2-5dec-4592-b86d-c7345de02c34\">\n",
              "      Upload widget is only available when the cell has been executed in the\n",
              "      current browser session. Please rerun this cell to enable.\n",
              "      </output>\n",
              "      <script src=\"/nbextensions/google.colab/files.js\"></script> "
            ],
            "text/plain": [
              "<IPython.core.display.HTML object>"
            ]
          },
          "metadata": {
            "tags": []
          }
        },
        {
          "output_type": "stream",
          "text": [
            "Saving MSFT (2).csv to MSFT (2).csv\n"
          ],
          "name": "stdout"
        }
      ]
    },
    {
      "cell_type": "code",
      "metadata": {
        "colab": {
          "base_uri": "https://localhost:8080/"
        },
        "id": "7EAbWLeZRnSU",
        "outputId": "72aa7bdb-42ef-45c8-99c0-a4eba3e146b8"
      },
      "source": [
        "pip install yfinance"
      ],
      "execution_count": null,
      "outputs": [
        {
          "output_type": "stream",
          "text": [
            "Collecting yfinance\n",
            "  Downloading https://files.pythonhosted.org/packages/7a/e8/b9d7104d3a4bf39924799067592d9e59119fcfc900a425a12e80a3123ec8/yfinance-0.1.55.tar.gz\n",
            "Requirement already satisfied: pandas>=0.24 in /usr/local/lib/python3.6/dist-packages (from yfinance) (1.1.4)\n",
            "Requirement already satisfied: numpy>=1.15 in /usr/local/lib/python3.6/dist-packages (from yfinance) (1.18.5)\n",
            "Requirement already satisfied: requests>=2.20 in /usr/local/lib/python3.6/dist-packages (from yfinance) (2.23.0)\n",
            "Requirement already satisfied: multitasking>=0.0.7 in /usr/local/lib/python3.6/dist-packages (from yfinance) (0.0.9)\n",
            "Collecting lxml>=4.5.1\n",
            "\u001b[?25l  Downloading https://files.pythonhosted.org/packages/bd/78/56a7c88a57d0d14945472535d0df9fb4bbad7d34ede658ec7961635c790e/lxml-4.6.2-cp36-cp36m-manylinux1_x86_64.whl (5.5MB)\n",
            "\u001b[K     |████████████████████████████████| 5.5MB 7.5MB/s \n",
            "\u001b[?25hRequirement already satisfied: python-dateutil>=2.7.3 in /usr/local/lib/python3.6/dist-packages (from pandas>=0.24->yfinance) (2.8.1)\n",
            "Requirement already satisfied: pytz>=2017.2 in /usr/local/lib/python3.6/dist-packages (from pandas>=0.24->yfinance) (2018.9)\n",
            "Requirement already satisfied: chardet<4,>=3.0.2 in /usr/local/lib/python3.6/dist-packages (from requests>=2.20->yfinance) (3.0.4)\n",
            "Requirement already satisfied: idna<3,>=2.5 in /usr/local/lib/python3.6/dist-packages (from requests>=2.20->yfinance) (2.10)\n",
            "Requirement already satisfied: certifi>=2017.4.17 in /usr/local/lib/python3.6/dist-packages (from requests>=2.20->yfinance) (2020.11.8)\n",
            "Requirement already satisfied: urllib3!=1.25.0,!=1.25.1,<1.26,>=1.21.1 in /usr/local/lib/python3.6/dist-packages (from requests>=2.20->yfinance) (1.24.3)\n",
            "Requirement already satisfied: six>=1.5 in /usr/local/lib/python3.6/dist-packages (from python-dateutil>=2.7.3->pandas>=0.24->yfinance) (1.15.0)\n",
            "Building wheels for collected packages: yfinance\n",
            "  Building wheel for yfinance (setup.py) ... \u001b[?25l\u001b[?25hdone\n",
            "  Created wheel for yfinance: filename=yfinance-0.1.55-py2.py3-none-any.whl size=22618 sha256=32b7c2eef01c8e928ddcd6e46f437dcdac8fa8dfe36cf3b27bfc51817abbf29e\n",
            "  Stored in directory: /root/.cache/pip/wheels/04/98/cc/2702a4242d60bdc14f48b4557c427ded1fe92aedf257d4565c\n",
            "Successfully built yfinance\n",
            "Installing collected packages: lxml, yfinance\n",
            "  Found existing installation: lxml 4.2.6\n",
            "    Uninstalling lxml-4.2.6:\n",
            "      Successfully uninstalled lxml-4.2.6\n",
            "Successfully installed lxml-4.6.2 yfinance-0.1.55\n"
          ],
          "name": "stdout"
        }
      ]
    },
    {
      "cell_type": "code",
      "metadata": {
        "colab": {
          "base_uri": "https://localhost:8080/"
        },
        "id": "OPsoFHjPRhWr",
        "outputId": "57af16eb-faa9-4584-9faf-3b81f21ee7bb"
      },
      "source": [
        "import yfinance as yf\n",
        "# Get the data of the stock MSFT\n",
        "df = yf.download('MSFT','2016-05-01','2020-11-30')"
      ],
      "execution_count": null,
      "outputs": [
        {
          "output_type": "stream",
          "text": [
            "\r[*********************100%***********************]  1 of 1 completed\n"
          ],
          "name": "stdout"
        }
      ]
    },
    {
      "cell_type": "code",
      "metadata": {
        "colab": {
          "base_uri": "https://localhost:8080/",
          "height": 228
        },
        "id": "gAqrnk7IRxii",
        "outputId": "2e9b9a2c-7424-4ac1-d62f-04e4fedc91d8"
      },
      "source": [
        "df.head()"
      ],
      "execution_count": null,
      "outputs": [
        {
          "output_type": "execute_result",
          "data": {
            "text/html": [
              "<div>\n",
              "<style scoped>\n",
              "    .dataframe tbody tr th:only-of-type {\n",
              "        vertical-align: middle;\n",
              "    }\n",
              "\n",
              "    .dataframe tbody tr th {\n",
              "        vertical-align: top;\n",
              "    }\n",
              "\n",
              "    .dataframe thead th {\n",
              "        text-align: right;\n",
              "    }\n",
              "</style>\n",
              "<table border=\"1\" class=\"dataframe\">\n",
              "  <thead>\n",
              "    <tr style=\"text-align: right;\">\n",
              "      <th></th>\n",
              "      <th>Open</th>\n",
              "      <th>High</th>\n",
              "      <th>Low</th>\n",
              "      <th>Close</th>\n",
              "      <th>Adj Close</th>\n",
              "      <th>Volume</th>\n",
              "    </tr>\n",
              "    <tr>\n",
              "      <th>Date</th>\n",
              "      <th></th>\n",
              "      <th></th>\n",
              "      <th></th>\n",
              "      <th></th>\n",
              "      <th></th>\n",
              "      <th></th>\n",
              "    </tr>\n",
              "  </thead>\n",
              "  <tbody>\n",
              "    <tr>\n",
              "      <th>2016-05-02</th>\n",
              "      <td>50.000000</td>\n",
              "      <td>50.750000</td>\n",
              "      <td>49.779999</td>\n",
              "      <td>50.610001</td>\n",
              "      <td>46.514835</td>\n",
              "      <td>33114500</td>\n",
              "    </tr>\n",
              "    <tr>\n",
              "      <th>2016-05-03</th>\n",
              "      <td>50.340000</td>\n",
              "      <td>50.410000</td>\n",
              "      <td>49.599998</td>\n",
              "      <td>49.779999</td>\n",
              "      <td>45.751984</td>\n",
              "      <td>26460200</td>\n",
              "    </tr>\n",
              "    <tr>\n",
              "      <th>2016-05-04</th>\n",
              "      <td>49.840000</td>\n",
              "      <td>50.060001</td>\n",
              "      <td>49.459999</td>\n",
              "      <td>49.869999</td>\n",
              "      <td>45.834702</td>\n",
              "      <td>24257600</td>\n",
              "    </tr>\n",
              "    <tr>\n",
              "      <th>2016-05-05</th>\n",
              "      <td>49.869999</td>\n",
              "      <td>50.299999</td>\n",
              "      <td>49.730000</td>\n",
              "      <td>49.939999</td>\n",
              "      <td>45.899036</td>\n",
              "      <td>25390700</td>\n",
              "    </tr>\n",
              "    <tr>\n",
              "      <th>2016-05-06</th>\n",
              "      <td>49.919998</td>\n",
              "      <td>50.389999</td>\n",
              "      <td>49.660000</td>\n",
              "      <td>50.389999</td>\n",
              "      <td>46.312630</td>\n",
              "      <td>24787300</td>\n",
              "    </tr>\n",
              "  </tbody>\n",
              "</table>\n",
              "</div>"
            ],
            "text/plain": [
              "                 Open       High        Low      Close  Adj Close    Volume\n",
              "Date                                                                       \n",
              "2016-05-02  50.000000  50.750000  49.779999  50.610001  46.514835  33114500\n",
              "2016-05-03  50.340000  50.410000  49.599998  49.779999  45.751984  26460200\n",
              "2016-05-04  49.840000  50.060001  49.459999  49.869999  45.834702  24257600\n",
              "2016-05-05  49.869999  50.299999  49.730000  49.939999  45.899036  25390700\n",
              "2016-05-06  49.919998  50.389999  49.660000  50.389999  46.312630  24787300"
            ]
          },
          "metadata": {
            "tags": []
          },
          "execution_count": 5
        }
      ]
    },
    {
      "cell_type": "code",
      "metadata": {
        "colab": {
          "base_uri": "https://localhost:8080/"
        },
        "id": "OfkGn2MUi88S",
        "outputId": "00277637-a39b-45f6-90c7-c6ecf944b362"
      },
      "source": [
        "df.columns"
      ],
      "execution_count": null,
      "outputs": [
        {
          "output_type": "execute_result",
          "data": {
            "text/plain": [
              "Index(['Open', 'High', 'Low', 'Close', 'Adj Close', 'Volume'], dtype='object')"
            ]
          },
          "metadata": {
            "tags": []
          },
          "execution_count": 6
        }
      ]
    },
    {
      "cell_type": "markdown",
      "metadata": {
        "id": "IN-IqrEXS428"
      },
      "source": [
        "### Uncomment below part if you are downloading the Data from Yahoo Website into MSFT.CSV"
      ]
    },
    {
      "cell_type": "code",
      "metadata": {
        "_cell_guid": "79c7e3d0-c299-4dcb-8224-4455121ee9b0",
        "_uuid": "d629ff2d2480ee46fbb7e2d37f6b5fab8052498a",
        "id": "TkV8CNYfjeoy"
      },
      "source": [
        "#df = pd.read_csv('/content/MSFT.csv')"
      ],
      "execution_count": null,
      "outputs": []
    },
    {
      "cell_type": "markdown",
      "metadata": {
        "id": "E6O1wefljeoy"
      },
      "source": [
        "### Data Exploration\n",
        "* We only will look at closing Price of the Stock"
      ]
    },
    {
      "cell_type": "code",
      "metadata": {
        "colab": {
          "base_uri": "https://localhost:8080/",
          "height": 228
        },
        "id": "FjuV2kPcjeoy",
        "outputId": "c15abcea-c810-4a77-c92c-b74ac2c1482a"
      },
      "source": [
        "df.head()"
      ],
      "execution_count": null,
      "outputs": [
        {
          "output_type": "execute_result",
          "data": {
            "text/html": [
              "<div>\n",
              "<style scoped>\n",
              "    .dataframe tbody tr th:only-of-type {\n",
              "        vertical-align: middle;\n",
              "    }\n",
              "\n",
              "    .dataframe tbody tr th {\n",
              "        vertical-align: top;\n",
              "    }\n",
              "\n",
              "    .dataframe thead th {\n",
              "        text-align: right;\n",
              "    }\n",
              "</style>\n",
              "<table border=\"1\" class=\"dataframe\">\n",
              "  <thead>\n",
              "    <tr style=\"text-align: right;\">\n",
              "      <th></th>\n",
              "      <th>Open</th>\n",
              "      <th>High</th>\n",
              "      <th>Low</th>\n",
              "      <th>Close</th>\n",
              "      <th>Adj Close</th>\n",
              "      <th>Volume</th>\n",
              "    </tr>\n",
              "    <tr>\n",
              "      <th>Date</th>\n",
              "      <th></th>\n",
              "      <th></th>\n",
              "      <th></th>\n",
              "      <th></th>\n",
              "      <th></th>\n",
              "      <th></th>\n",
              "    </tr>\n",
              "  </thead>\n",
              "  <tbody>\n",
              "    <tr>\n",
              "      <th>2016-05-02</th>\n",
              "      <td>50.000000</td>\n",
              "      <td>50.750000</td>\n",
              "      <td>49.779999</td>\n",
              "      <td>50.610001</td>\n",
              "      <td>46.514835</td>\n",
              "      <td>33114500</td>\n",
              "    </tr>\n",
              "    <tr>\n",
              "      <th>2016-05-03</th>\n",
              "      <td>50.340000</td>\n",
              "      <td>50.410000</td>\n",
              "      <td>49.599998</td>\n",
              "      <td>49.779999</td>\n",
              "      <td>45.751984</td>\n",
              "      <td>26460200</td>\n",
              "    </tr>\n",
              "    <tr>\n",
              "      <th>2016-05-04</th>\n",
              "      <td>49.840000</td>\n",
              "      <td>50.060001</td>\n",
              "      <td>49.459999</td>\n",
              "      <td>49.869999</td>\n",
              "      <td>45.834702</td>\n",
              "      <td>24257600</td>\n",
              "    </tr>\n",
              "    <tr>\n",
              "      <th>2016-05-05</th>\n",
              "      <td>49.869999</td>\n",
              "      <td>50.299999</td>\n",
              "      <td>49.730000</td>\n",
              "      <td>49.939999</td>\n",
              "      <td>45.899036</td>\n",
              "      <td>25390700</td>\n",
              "    </tr>\n",
              "    <tr>\n",
              "      <th>2016-05-06</th>\n",
              "      <td>49.919998</td>\n",
              "      <td>50.389999</td>\n",
              "      <td>49.660000</td>\n",
              "      <td>50.389999</td>\n",
              "      <td>46.312630</td>\n",
              "      <td>24787300</td>\n",
              "    </tr>\n",
              "  </tbody>\n",
              "</table>\n",
              "</div>"
            ],
            "text/plain": [
              "                 Open       High        Low      Close  Adj Close    Volume\n",
              "Date                                                                       \n",
              "2016-05-02  50.000000  50.750000  49.779999  50.610001  46.514835  33114500\n",
              "2016-05-03  50.340000  50.410000  49.599998  49.779999  45.751984  26460200\n",
              "2016-05-04  49.840000  50.060001  49.459999  49.869999  45.834702  24257600\n",
              "2016-05-05  49.869999  50.299999  49.730000  49.939999  45.899036  25390700\n",
              "2016-05-06  49.919998  50.389999  49.660000  50.389999  46.312630  24787300"
            ]
          },
          "metadata": {
            "tags": []
          },
          "execution_count": 7
        }
      ]
    },
    {
      "cell_type": "code",
      "metadata": {
        "colab": {
          "base_uri": "https://localhost:8080/"
        },
        "id": "Pc8JbPvgWFeZ",
        "outputId": "bffaac28-835c-48bc-8867-a6493f8d799e"
      },
      "source": [
        "df.index"
      ],
      "execution_count": null,
      "outputs": [
        {
          "output_type": "execute_result",
          "data": {
            "text/plain": [
              "DatetimeIndex(['2016-05-02', '2016-05-03', '2016-05-04', '2016-05-05',\n",
              "               '2016-05-06', '2016-05-09', '2016-05-10', '2016-05-11',\n",
              "               '2016-05-12', '2016-05-13',\n",
              "               ...\n",
              "               '2020-11-13', '2020-11-16', '2020-11-17', '2020-11-18',\n",
              "               '2020-11-19', '2020-11-20', '2020-11-23', '2020-11-24',\n",
              "               '2020-11-25', '2020-11-27'],\n",
              "              dtype='datetime64[ns]', name='Date', length=1154, freq=None)"
            ]
          },
          "metadata": {
            "tags": []
          },
          "execution_count": 8
        }
      ]
    },
    {
      "cell_type": "code",
      "metadata": {
        "id": "CLeGHbl_VtdA"
      },
      "source": [
        "date_array=[]\n",
        "for date in  df.index:\n",
        "  date_array.append(date)\n",
        "\n",
        "date_df = pd.DataFrame(date_array,index=df.index)\n",
        "date_df.columns = ['Date']\n",
        "df = pd.concat([df, date_df], axis=1, sort=False)\n"
      ],
      "execution_count": null,
      "outputs": []
    },
    {
      "cell_type": "code",
      "metadata": {
        "colab": {
          "base_uri": "https://localhost:8080/",
          "height": 228
        },
        "id": "nxP-t2Y9WOjw",
        "outputId": "d24ee568-d1d1-4f27-e451-701d7551c668"
      },
      "source": [
        "df.head()"
      ],
      "execution_count": null,
      "outputs": [
        {
          "output_type": "execute_result",
          "data": {
            "text/html": [
              "<div>\n",
              "<style scoped>\n",
              "    .dataframe tbody tr th:only-of-type {\n",
              "        vertical-align: middle;\n",
              "    }\n",
              "\n",
              "    .dataframe tbody tr th {\n",
              "        vertical-align: top;\n",
              "    }\n",
              "\n",
              "    .dataframe thead th {\n",
              "        text-align: right;\n",
              "    }\n",
              "</style>\n",
              "<table border=\"1\" class=\"dataframe\">\n",
              "  <thead>\n",
              "    <tr style=\"text-align: right;\">\n",
              "      <th></th>\n",
              "      <th>Open</th>\n",
              "      <th>High</th>\n",
              "      <th>Low</th>\n",
              "      <th>Close</th>\n",
              "      <th>Adj Close</th>\n",
              "      <th>Volume</th>\n",
              "      <th>Date</th>\n",
              "    </tr>\n",
              "    <tr>\n",
              "      <th>Date</th>\n",
              "      <th></th>\n",
              "      <th></th>\n",
              "      <th></th>\n",
              "      <th></th>\n",
              "      <th></th>\n",
              "      <th></th>\n",
              "      <th></th>\n",
              "    </tr>\n",
              "  </thead>\n",
              "  <tbody>\n",
              "    <tr>\n",
              "      <th>2016-05-02</th>\n",
              "      <td>50.000000</td>\n",
              "      <td>50.750000</td>\n",
              "      <td>49.779999</td>\n",
              "      <td>50.610001</td>\n",
              "      <td>46.514835</td>\n",
              "      <td>33114500</td>\n",
              "      <td>2016-05-02</td>\n",
              "    </tr>\n",
              "    <tr>\n",
              "      <th>2016-05-03</th>\n",
              "      <td>50.340000</td>\n",
              "      <td>50.410000</td>\n",
              "      <td>49.599998</td>\n",
              "      <td>49.779999</td>\n",
              "      <td>45.751984</td>\n",
              "      <td>26460200</td>\n",
              "      <td>2016-05-03</td>\n",
              "    </tr>\n",
              "    <tr>\n",
              "      <th>2016-05-04</th>\n",
              "      <td>49.840000</td>\n",
              "      <td>50.060001</td>\n",
              "      <td>49.459999</td>\n",
              "      <td>49.869999</td>\n",
              "      <td>45.834702</td>\n",
              "      <td>24257600</td>\n",
              "      <td>2016-05-04</td>\n",
              "    </tr>\n",
              "    <tr>\n",
              "      <th>2016-05-05</th>\n",
              "      <td>49.869999</td>\n",
              "      <td>50.299999</td>\n",
              "      <td>49.730000</td>\n",
              "      <td>49.939999</td>\n",
              "      <td>45.899036</td>\n",
              "      <td>25390700</td>\n",
              "      <td>2016-05-05</td>\n",
              "    </tr>\n",
              "    <tr>\n",
              "      <th>2016-05-06</th>\n",
              "      <td>49.919998</td>\n",
              "      <td>50.389999</td>\n",
              "      <td>49.660000</td>\n",
              "      <td>50.389999</td>\n",
              "      <td>46.312630</td>\n",
              "      <td>24787300</td>\n",
              "      <td>2016-05-06</td>\n",
              "    </tr>\n",
              "  </tbody>\n",
              "</table>\n",
              "</div>"
            ],
            "text/plain": [
              "                 Open       High        Low  ...  Adj Close    Volume       Date\n",
              "Date                                         ...                                \n",
              "2016-05-02  50.000000  50.750000  49.779999  ...  46.514835  33114500 2016-05-02\n",
              "2016-05-03  50.340000  50.410000  49.599998  ...  45.751984  26460200 2016-05-03\n",
              "2016-05-04  49.840000  50.060001  49.459999  ...  45.834702  24257600 2016-05-04\n",
              "2016-05-05  49.869999  50.299999  49.730000  ...  45.899036  25390700 2016-05-05\n",
              "2016-05-06  49.919998  50.389999  49.660000  ...  46.312630  24787300 2016-05-06\n",
              "\n",
              "[5 rows x 7 columns]"
            ]
          },
          "metadata": {
            "tags": []
          },
          "execution_count": 10
        }
      ]
    },
    {
      "cell_type": "markdown",
      "metadata": {
        "id": "-wHXfKWdjeoy"
      },
      "source": [
        "### 2.1. Plotting the Time-series"
      ]
    },
    {
      "cell_type": "code",
      "metadata": {
        "colab": {
          "base_uri": "https://localhost:8080/",
          "height": 433
        },
        "id": "-W68v8j1jeoy",
        "outputId": "eb9b93de-61e5-491a-a1d2-68b3cba26ce3"
      },
      "source": [
        "from pandas.plotting import register_matplotlib_converters\n",
        "register_matplotlib_converters()\n",
        "\n",
        "plt.figure(figsize=(8, 6))\n",
        "plt.plot(df['Close'], color='g')\n",
        "plt.title('MSFT Closing Price', weight='bold', fontsize=16)\n",
        "plt.xlabel('Time', weight='bold', fontsize=14)\n",
        "plt.ylabel('USD ($)', weight='bold', fontsize=14)\n",
        "plt.xticks(weight='bold', fontsize=12, rotation=45)\n",
        "plt.yticks(weight='bold', fontsize=12)\n",
        "plt.grid(color = 'y', linewidth = 0.5)"
      ],
      "execution_count": null,
      "outputs": [
        {
          "output_type": "display_data",
          "data": {
            "image/png": "[encoded data removed]",
            "text/plain": [
              "<Figure size 576x432 with 1 Axes>"
            ]
          },
          "metadata": {
            "tags": [],
            "needs_background": "light"
          }
        }
      ]
    },
    {
      "cell_type": "code",
      "metadata": {
        "colab": {
          "base_uri": "https://localhost:8080/",
          "height": 228
        },
        "id": "VzjBvlaljeoy",
        "outputId": "bc68508e-3b2e-49db-9c16-8997ddd1916a"
      },
      "source": [
        "df.head()"
      ],
      "execution_count": null,
      "outputs": [
        {
          "output_type": "execute_result",
          "data": {
            "text/html": [
              "<div>\n",
              "<style scoped>\n",
              "    .dataframe tbody tr th:only-of-type {\n",
              "        vertical-align: middle;\n",
              "    }\n",
              "\n",
              "    .dataframe tbody tr th {\n",
              "        vertical-align: top;\n",
              "    }\n",
              "\n",
              "    .dataframe thead th {\n",
              "        text-align: right;\n",
              "    }\n",
              "</style>\n",
              "<table border=\"1\" class=\"dataframe\">\n",
              "  <thead>\n",
              "    <tr style=\"text-align: right;\">\n",
              "      <th></th>\n",
              "      <th>Open</th>\n",
              "      <th>High</th>\n",
              "      <th>Low</th>\n",
              "      <th>Close</th>\n",
              "      <th>Adj Close</th>\n",
              "      <th>Volume</th>\n",
              "      <th>Date</th>\n",
              "    </tr>\n",
              "    <tr>\n",
              "      <th>Date</th>\n",
              "      <th></th>\n",
              "      <th></th>\n",
              "      <th></th>\n",
              "      <th></th>\n",
              "      <th></th>\n",
              "      <th></th>\n",
              "      <th></th>\n",
              "    </tr>\n",
              "  </thead>\n",
              "  <tbody>\n",
              "    <tr>\n",
              "      <th>2016-05-02</th>\n",
              "      <td>50.000000</td>\n",
              "      <td>50.750000</td>\n",
              "      <td>49.779999</td>\n",
              "      <td>50.610001</td>\n",
              "      <td>46.514835</td>\n",
              "      <td>33114500</td>\n",
              "      <td>2016-05-02</td>\n",
              "    </tr>\n",
              "    <tr>\n",
              "      <th>2016-05-03</th>\n",
              "      <td>50.340000</td>\n",
              "      <td>50.410000</td>\n",
              "      <td>49.599998</td>\n",
              "      <td>49.779999</td>\n",
              "      <td>45.751984</td>\n",
              "      <td>26460200</td>\n",
              "      <td>2016-05-03</td>\n",
              "    </tr>\n",
              "    <tr>\n",
              "      <th>2016-05-04</th>\n",
              "      <td>49.840000</td>\n",
              "      <td>50.060001</td>\n",
              "      <td>49.459999</td>\n",
              "      <td>49.869999</td>\n",
              "      <td>45.834702</td>\n",
              "      <td>24257600</td>\n",
              "      <td>2016-05-04</td>\n",
              "    </tr>\n",
              "    <tr>\n",
              "      <th>2016-05-05</th>\n",
              "      <td>49.869999</td>\n",
              "      <td>50.299999</td>\n",
              "      <td>49.730000</td>\n",
              "      <td>49.939999</td>\n",
              "      <td>45.899036</td>\n",
              "      <td>25390700</td>\n",
              "      <td>2016-05-05</td>\n",
              "    </tr>\n",
              "    <tr>\n",
              "      <th>2016-05-06</th>\n",
              "      <td>49.919998</td>\n",
              "      <td>50.389999</td>\n",
              "      <td>49.660000</td>\n",
              "      <td>50.389999</td>\n",
              "      <td>46.312630</td>\n",
              "      <td>24787300</td>\n",
              "      <td>2016-05-06</td>\n",
              "    </tr>\n",
              "  </tbody>\n",
              "</table>\n",
              "</div>"
            ],
            "text/plain": [
              "                 Open       High        Low  ...  Adj Close    Volume       Date\n",
              "Date                                         ...                                \n",
              "2016-05-02  50.000000  50.750000  49.779999  ...  46.514835  33114500 2016-05-02\n",
              "2016-05-03  50.340000  50.410000  49.599998  ...  45.751984  26460200 2016-05-03\n",
              "2016-05-04  49.840000  50.060001  49.459999  ...  45.834702  24257600 2016-05-04\n",
              "2016-05-05  49.869999  50.299999  49.730000  ...  45.899036  25390700 2016-05-05\n",
              "2016-05-06  49.919998  50.389999  49.660000  ...  46.312630  24787300 2016-05-06\n",
              "\n",
              "[5 rows x 7 columns]"
            ]
          },
          "metadata": {
            "tags": []
          },
          "execution_count": 12
        }
      ]
    },
    {
      "cell_type": "code",
      "metadata": {
        "colab": {
          "base_uri": "https://localhost:8080/",
          "height": 228
        },
        "id": "6v1YsI2gjeoy",
        "outputId": "a7e9517a-cd62-491d-b4ad-db6c99e4d9da"
      },
      "source": [
        "df.tail()"
      ],
      "execution_count": null,
      "outputs": [
        {
          "output_type": "execute_result",
          "data": {
            "text/html": [
              "<div>\n",
              "<style scoped>\n",
              "    .dataframe tbody tr th:only-of-type {\n",
              "        vertical-align: middle;\n",
              "    }\n",
              "\n",
              "    .dataframe tbody tr th {\n",
              "        vertical-align: top;\n",
              "    }\n",
              "\n",
              "    .dataframe thead th {\n",
              "        text-align: right;\n",
              "    }\n",
              "</style>\n",
              "<table border=\"1\" class=\"dataframe\">\n",
              "  <thead>\n",
              "    <tr style=\"text-align: right;\">\n",
              "      <th></th>\n",
              "      <th>Open</th>\n",
              "      <th>High</th>\n",
              "      <th>Low</th>\n",
              "      <th>Close</th>\n",
              "      <th>Adj Close</th>\n",
              "      <th>Volume</th>\n",
              "      <th>Date</th>\n",
              "    </tr>\n",
              "    <tr>\n",
              "      <th>Date</th>\n",
              "      <th></th>\n",
              "      <th></th>\n",
              "      <th></th>\n",
              "      <th></th>\n",
              "      <th></th>\n",
              "      <th></th>\n",
              "      <th></th>\n",
              "    </tr>\n",
              "  </thead>\n",
              "  <tbody>\n",
              "    <tr>\n",
              "      <th>2020-11-20</th>\n",
              "      <td>212.199997</td>\n",
              "      <td>213.289993</td>\n",
              "      <td>210.000000</td>\n",
              "      <td>210.389999</td>\n",
              "      <td>210.389999</td>\n",
              "      <td>22829100</td>\n",
              "      <td>2020-11-20</td>\n",
              "    </tr>\n",
              "    <tr>\n",
              "      <th>2020-11-23</th>\n",
              "      <td>210.949997</td>\n",
              "      <td>212.289993</td>\n",
              "      <td>208.160004</td>\n",
              "      <td>210.110001</td>\n",
              "      <td>210.110001</td>\n",
              "      <td>25683500</td>\n",
              "      <td>2020-11-23</td>\n",
              "    </tr>\n",
              "    <tr>\n",
              "      <th>2020-11-24</th>\n",
              "      <td>209.589996</td>\n",
              "      <td>214.250000</td>\n",
              "      <td>208.860001</td>\n",
              "      <td>213.860001</td>\n",
              "      <td>213.860001</td>\n",
              "      <td>33979700</td>\n",
              "      <td>2020-11-24</td>\n",
              "    </tr>\n",
              "    <tr>\n",
              "      <th>2020-11-25</th>\n",
              "      <td>215.110001</td>\n",
              "      <td>215.289993</td>\n",
              "      <td>212.460007</td>\n",
              "      <td>213.869995</td>\n",
              "      <td>213.869995</td>\n",
              "      <td>21012900</td>\n",
              "      <td>2020-11-25</td>\n",
              "    </tr>\n",
              "    <tr>\n",
              "      <th>2020-11-27</th>\n",
              "      <td>214.850006</td>\n",
              "      <td>216.270004</td>\n",
              "      <td>214.039993</td>\n",
              "      <td>215.229996</td>\n",
              "      <td>215.229996</td>\n",
              "      <td>14512200</td>\n",
              "      <td>2020-11-27</td>\n",
              "    </tr>\n",
              "  </tbody>\n",
              "</table>\n",
              "</div>"
            ],
            "text/plain": [
              "                  Open        High         Low  ...   Adj Close    Volume       Date\n",
              "Date                                            ...                                 \n",
              "2020-11-20  212.199997  213.289993  210.000000  ...  210.389999  22829100 2020-11-20\n",
              "2020-11-23  210.949997  212.289993  208.160004  ...  210.110001  25683500 2020-11-23\n",
              "2020-11-24  209.589996  214.250000  208.860001  ...  213.860001  33979700 2020-11-24\n",
              "2020-11-25  215.110001  215.289993  212.460007  ...  213.869995  21012900 2020-11-25\n",
              "2020-11-27  214.850006  216.270004  214.039993  ...  215.229996  14512200 2020-11-27\n",
              "\n",
              "[5 rows x 7 columns]"
            ]
          },
          "metadata": {
            "tags": []
          },
          "execution_count": 13
        }
      ]
    },
    {
      "cell_type": "markdown",
      "metadata": {
        "id": "xlXwmFvxjeoz"
      },
      "source": [
        "## Train Upto a Fixed Date\n",
        "* Here we want to Train Upto 30th October 2020\n",
        "* We want to Predict after that\n",
        "\n"
      ]
    },
    {
      "cell_type": "code",
      "metadata": {
        "id": "rYsO8HQojeoz"
      },
      "source": [
        "train_end_date = pd.to_datetime('30-10-2020',utc=True)"
      ],
      "execution_count": null,
      "outputs": []
    },
    {
      "cell_type": "code",
      "metadata": {
        "id": "Sh0P4k6_W9_Q",
        "colab": {
          "base_uri": "https://localhost:8080/"
        },
        "outputId": "32b646a7-9a62-41d9-c113-4df392691d7b"
      },
      "source": [
        "train_end_date"
      ],
      "execution_count": null,
      "outputs": [
        {
          "output_type": "execute_result",
          "data": {
            "text/plain": [
              "Timestamp('2020-10-30 00:00:00+0000', tz='UTC')"
            ]
          },
          "metadata": {
            "tags": []
          },
          "execution_count": 15
        }
      ]
    },
    {
      "cell_type": "code",
      "metadata": {
        "id": "6J-yhwUNjeoz"
      },
      "source": [
        "df['DateTime'] = pd.to_datetime(df['Date'],utc=True)    "
      ],
      "execution_count": null,
      "outputs": []
    },
    {
      "cell_type": "code",
      "metadata": {
        "colab": {
          "base_uri": "https://localhost:8080/",
          "height": 228
        },
        "id": "3dth0H9Fjeoz",
        "outputId": "19b1c2c6-00b1-4d3a-e608-0de9c4f0fa7b"
      },
      "source": [
        "df.head()"
      ],
      "execution_count": null,
      "outputs": [
        {
          "output_type": "execute_result",
          "data": {
            "text/html": [
              "<div>\n",
              "<style scoped>\n",
              "    .dataframe tbody tr th:only-of-type {\n",
              "        vertical-align: middle;\n",
              "    }\n",
              "\n",
              "    .dataframe tbody tr th {\n",
              "        vertical-align: top;\n",
              "    }\n",
              "\n",
              "    .dataframe thead th {\n",
              "        text-align: right;\n",
              "    }\n",
              "</style>\n",
              "<table border=\"1\" class=\"dataframe\">\n",
              "  <thead>\n",
              "    <tr style=\"text-align: right;\">\n",
              "      <th></th>\n",
              "      <th>Open</th>\n",
              "      <th>High</th>\n",
              "      <th>Low</th>\n",
              "      <th>Close</th>\n",
              "      <th>Adj Close</th>\n",
              "      <th>Volume</th>\n",
              "      <th>Date</th>\n",
              "      <th>DateTime</th>\n",
              "    </tr>\n",
              "    <tr>\n",
              "      <th>Date</th>\n",
              "      <th></th>\n",
              "      <th></th>\n",
              "      <th></th>\n",
              "      <th></th>\n",
              "      <th></th>\n",
              "      <th></th>\n",
              "      <th></th>\n",
              "      <th></th>\n",
              "    </tr>\n",
              "  </thead>\n",
              "  <tbody>\n",
              "    <tr>\n",
              "      <th>2016-05-02</th>\n",
              "      <td>50.000000</td>\n",
              "      <td>50.750000</td>\n",
              "      <td>49.779999</td>\n",
              "      <td>50.610001</td>\n",
              "      <td>46.514835</td>\n",
              "      <td>33114500</td>\n",
              "      <td>2016-05-02</td>\n",
              "      <td>2016-05-02 00:00:00+00:00</td>\n",
              "    </tr>\n",
              "    <tr>\n",
              "      <th>2016-05-03</th>\n",
              "      <td>50.340000</td>\n",
              "      <td>50.410000</td>\n",
              "      <td>49.599998</td>\n",
              "      <td>49.779999</td>\n",
              "      <td>45.751984</td>\n",
              "      <td>26460200</td>\n",
              "      <td>2016-05-03</td>\n",
              "      <td>2016-05-03 00:00:00+00:00</td>\n",
              "    </tr>\n",
              "    <tr>\n",
              "      <th>2016-05-04</th>\n",
              "      <td>49.840000</td>\n",
              "      <td>50.060001</td>\n",
              "      <td>49.459999</td>\n",
              "      <td>49.869999</td>\n",
              "      <td>45.834702</td>\n",
              "      <td>24257600</td>\n",
              "      <td>2016-05-04</td>\n",
              "      <td>2016-05-04 00:00:00+00:00</td>\n",
              "    </tr>\n",
              "    <tr>\n",
              "      <th>2016-05-05</th>\n",
              "      <td>49.869999</td>\n",
              "      <td>50.299999</td>\n",
              "      <td>49.730000</td>\n",
              "      <td>49.939999</td>\n",
              "      <td>45.899036</td>\n",
              "      <td>25390700</td>\n",
              "      <td>2016-05-05</td>\n",
              "      <td>2016-05-05 00:00:00+00:00</td>\n",
              "    </tr>\n",
              "    <tr>\n",
              "      <th>2016-05-06</th>\n",
              "      <td>49.919998</td>\n",
              "      <td>50.389999</td>\n",
              "      <td>49.660000</td>\n",
              "      <td>50.389999</td>\n",
              "      <td>46.312630</td>\n",
              "      <td>24787300</td>\n",
              "      <td>2016-05-06</td>\n",
              "      <td>2016-05-06 00:00:00+00:00</td>\n",
              "    </tr>\n",
              "  </tbody>\n",
              "</table>\n",
              "</div>"
            ],
            "text/plain": [
              "                 Open       High  ...       Date                  DateTime\n",
              "Date                              ...                                     \n",
              "2016-05-02  50.000000  50.750000  ... 2016-05-02 2016-05-02 00:00:00+00:00\n",
              "2016-05-03  50.340000  50.410000  ... 2016-05-03 2016-05-03 00:00:00+00:00\n",
              "2016-05-04  49.840000  50.060001  ... 2016-05-04 2016-05-04 00:00:00+00:00\n",
              "2016-05-05  49.869999  50.299999  ... 2016-05-05 2016-05-05 00:00:00+00:00\n",
              "2016-05-06  49.919998  50.389999  ... 2016-05-06 2016-05-06 00:00:00+00:00\n",
              "\n",
              "[5 rows x 8 columns]"
            ]
          },
          "metadata": {
            "tags": []
          },
          "execution_count": 17
        }
      ]
    },
    {
      "cell_type": "code",
      "metadata": {
        "id": "HTnun9fiYmpS"
      },
      "source": [
        "df.index= range(len(df))\n"
      ],
      "execution_count": null,
      "outputs": []
    },
    {
      "cell_type": "code",
      "metadata": {
        "colab": {
          "base_uri": "https://localhost:8080/",
          "height": 198
        },
        "id": "mBZ1_DmAkooA",
        "outputId": "c0c5ac32-edb5-4105-acea-05e266f16601"
      },
      "source": [
        "df.head()"
      ],
      "execution_count": null,
      "outputs": [
        {
          "output_type": "execute_result",
          "data": {
            "text/html": [
              "<div>\n",
              "<style scoped>\n",
              "    .dataframe tbody tr th:only-of-type {\n",
              "        vertical-align: middle;\n",
              "    }\n",
              "\n",
              "    .dataframe tbody tr th {\n",
              "        vertical-align: top;\n",
              "    }\n",
              "\n",
              "    .dataframe thead th {\n",
              "        text-align: right;\n",
              "    }\n",
              "</style>\n",
              "<table border=\"1\" class=\"dataframe\">\n",
              "  <thead>\n",
              "    <tr style=\"text-align: right;\">\n",
              "      <th></th>\n",
              "      <th>Open</th>\n",
              "      <th>High</th>\n",
              "      <th>Low</th>\n",
              "      <th>Close</th>\n",
              "      <th>Adj Close</th>\n",
              "      <th>Volume</th>\n",
              "      <th>Date</th>\n",
              "      <th>DateTime</th>\n",
              "    </tr>\n",
              "  </thead>\n",
              "  <tbody>\n",
              "    <tr>\n",
              "      <th>0</th>\n",
              "      <td>50.000000</td>\n",
              "      <td>50.750000</td>\n",
              "      <td>49.779999</td>\n",
              "      <td>50.610001</td>\n",
              "      <td>46.514835</td>\n",
              "      <td>33114500</td>\n",
              "      <td>2016-05-02</td>\n",
              "      <td>2016-05-02 00:00:00+00:00</td>\n",
              "    </tr>\n",
              "    <tr>\n",
              "      <th>1</th>\n",
              "      <td>50.340000</td>\n",
              "      <td>50.410000</td>\n",
              "      <td>49.599998</td>\n",
              "      <td>49.779999</td>\n",
              "      <td>45.751984</td>\n",
              "      <td>26460200</td>\n",
              "      <td>2016-05-03</td>\n",
              "      <td>2016-05-03 00:00:00+00:00</td>\n",
              "    </tr>\n",
              "    <tr>\n",
              "      <th>2</th>\n",
              "      <td>49.840000</td>\n",
              "      <td>50.060001</td>\n",
              "      <td>49.459999</td>\n",
              "      <td>49.869999</td>\n",
              "      <td>45.834702</td>\n",
              "      <td>24257600</td>\n",
              "      <td>2016-05-04</td>\n",
              "      <td>2016-05-04 00:00:00+00:00</td>\n",
              "    </tr>\n",
              "    <tr>\n",
              "      <th>3</th>\n",
              "      <td>49.869999</td>\n",
              "      <td>50.299999</td>\n",
              "      <td>49.730000</td>\n",
              "      <td>49.939999</td>\n",
              "      <td>45.899036</td>\n",
              "      <td>25390700</td>\n",
              "      <td>2016-05-05</td>\n",
              "      <td>2016-05-05 00:00:00+00:00</td>\n",
              "    </tr>\n",
              "    <tr>\n",
              "      <th>4</th>\n",
              "      <td>49.919998</td>\n",
              "      <td>50.389999</td>\n",
              "      <td>49.660000</td>\n",
              "      <td>50.389999</td>\n",
              "      <td>46.312630</td>\n",
              "      <td>24787300</td>\n",
              "      <td>2016-05-06</td>\n",
              "      <td>2016-05-06 00:00:00+00:00</td>\n",
              "    </tr>\n",
              "  </tbody>\n",
              "</table>\n",
              "</div>"
            ],
            "text/plain": [
              "        Open       High  ...       Date                  DateTime\n",
              "0  50.000000  50.750000  ... 2016-05-02 2016-05-02 00:00:00+00:00\n",
              "1  50.340000  50.410000  ... 2016-05-03 2016-05-03 00:00:00+00:00\n",
              "2  49.840000  50.060001  ... 2016-05-04 2016-05-04 00:00:00+00:00\n",
              "3  49.869999  50.299999  ... 2016-05-05 2016-05-05 00:00:00+00:00\n",
              "4  49.919998  50.389999  ... 2016-05-06 2016-05-06 00:00:00+00:00\n",
              "\n",
              "[5 rows x 8 columns]"
            ]
          },
          "metadata": {
            "tags": []
          },
          "execution_count": 21
        }
      ]
    },
    {
      "cell_type": "code",
      "metadata": {
        "colab": {
          "base_uri": "https://localhost:8080/",
          "height": 649
        },
        "id": "fUo9NAwdjeoz",
        "outputId": "7c000454-35ec-4c36-f7c0-4043a1262740"
      },
      "source": [
        "df[df['DateTime']>=train_end_date]"
      ],
      "execution_count": null,
      "outputs": [
        {
          "output_type": "execute_result",
          "data": {
            "text/html": [
              "<div>\n",
              "<style scoped>\n",
              "    .dataframe tbody tr th:only-of-type {\n",
              "        vertical-align: middle;\n",
              "    }\n",
              "\n",
              "    .dataframe tbody tr th {\n",
              "        vertical-align: top;\n",
              "    }\n",
              "\n",
              "    .dataframe thead th {\n",
              "        text-align: right;\n",
              "    }\n",
              "</style>\n",
              "<table border=\"1\" class=\"dataframe\">\n",
              "  <thead>\n",
              "    <tr style=\"text-align: right;\">\n",
              "      <th></th>\n",
              "      <th>Open</th>\n",
              "      <th>High</th>\n",
              "      <th>Low</th>\n",
              "      <th>Close</th>\n",
              "      <th>Adj Close</th>\n",
              "      <th>Volume</th>\n",
              "      <th>Date</th>\n",
              "      <th>DateTime</th>\n",
              "    </tr>\n",
              "  </thead>\n",
              "  <tbody>\n",
              "    <tr>\n",
              "      <th>1134</th>\n",
              "      <td>203.500000</td>\n",
              "      <td>204.289993</td>\n",
              "      <td>199.619995</td>\n",
              "      <td>202.470001</td>\n",
              "      <td>201.941315</td>\n",
              "      <td>36953700</td>\n",
              "      <td>2020-10-30</td>\n",
              "      <td>2020-10-30 00:00:00+00:00</td>\n",
              "    </tr>\n",
              "    <tr>\n",
              "      <th>1135</th>\n",
              "      <td>204.289993</td>\n",
              "      <td>205.279999</td>\n",
              "      <td>200.119995</td>\n",
              "      <td>202.330002</td>\n",
              "      <td>201.801666</td>\n",
              "      <td>30842200</td>\n",
              "      <td>2020-11-02</td>\n",
              "      <td>2020-11-02 00:00:00+00:00</td>\n",
              "    </tr>\n",
              "    <tr>\n",
              "      <th>1136</th>\n",
              "      <td>203.889999</td>\n",
              "      <td>208.119995</td>\n",
              "      <td>203.119995</td>\n",
              "      <td>206.429993</td>\n",
              "      <td>205.890961</td>\n",
              "      <td>27512000</td>\n",
              "      <td>2020-11-03</td>\n",
              "      <td>2020-11-03 00:00:00+00:00</td>\n",
              "    </tr>\n",
              "    <tr>\n",
              "      <th>1137</th>\n",
              "      <td>214.020004</td>\n",
              "      <td>218.320007</td>\n",
              "      <td>212.419998</td>\n",
              "      <td>216.389999</td>\n",
              "      <td>215.824951</td>\n",
              "      <td>42311800</td>\n",
              "      <td>2020-11-04</td>\n",
              "      <td>2020-11-04 00:00:00+00:00</td>\n",
              "    </tr>\n",
              "    <tr>\n",
              "      <th>1138</th>\n",
              "      <td>222.039993</td>\n",
              "      <td>224.119995</td>\n",
              "      <td>221.149994</td>\n",
              "      <td>223.289993</td>\n",
              "      <td>222.706940</td>\n",
              "      <td>36080100</td>\n",
              "      <td>2020-11-05</td>\n",
              "      <td>2020-11-05 00:00:00+00:00</td>\n",
              "    </tr>\n",
              "    <tr>\n",
              "      <th>1139</th>\n",
              "      <td>222.259995</td>\n",
              "      <td>224.360001</td>\n",
              "      <td>218.029999</td>\n",
              "      <td>223.720001</td>\n",
              "      <td>223.135818</td>\n",
              "      <td>25231900</td>\n",
              "      <td>2020-11-06</td>\n",
              "      <td>2020-11-06 00:00:00+00:00</td>\n",
              "    </tr>\n",
              "    <tr>\n",
              "      <th>1140</th>\n",
              "      <td>224.440002</td>\n",
              "      <td>228.119995</td>\n",
              "      <td>217.880005</td>\n",
              "      <td>218.389999</td>\n",
              "      <td>217.819733</td>\n",
              "      <td>44395000</td>\n",
              "      <td>2020-11-09</td>\n",
              "      <td>2020-11-09 00:00:00+00:00</td>\n",
              "    </tr>\n",
              "    <tr>\n",
              "      <th>1141</th>\n",
              "      <td>214.500000</td>\n",
              "      <td>216.500000</td>\n",
              "      <td>209.720001</td>\n",
              "      <td>211.009995</td>\n",
              "      <td>210.459000</td>\n",
              "      <td>44045100</td>\n",
              "      <td>2020-11-10</td>\n",
              "      <td>2020-11-10 00:00:00+00:00</td>\n",
              "    </tr>\n",
              "    <tr>\n",
              "      <th>1142</th>\n",
              "      <td>212.389999</td>\n",
              "      <td>218.039993</td>\n",
              "      <td>212.199997</td>\n",
              "      <td>216.550003</td>\n",
              "      <td>215.984543</td>\n",
              "      <td>29440800</td>\n",
              "      <td>2020-11-11</td>\n",
              "      <td>2020-11-11 00:00:00+00:00</td>\n",
              "    </tr>\n",
              "    <tr>\n",
              "      <th>1143</th>\n",
              "      <td>217.210007</td>\n",
              "      <td>219.110001</td>\n",
              "      <td>214.460007</td>\n",
              "      <td>215.440002</td>\n",
              "      <td>214.877441</td>\n",
              "      <td>21593900</td>\n",
              "      <td>2020-11-12</td>\n",
              "      <td>2020-11-12 00:00:00+00:00</td>\n",
              "    </tr>\n",
              "    <tr>\n",
              "      <th>1144</th>\n",
              "      <td>216.360001</td>\n",
              "      <td>217.419998</td>\n",
              "      <td>214.160004</td>\n",
              "      <td>216.509995</td>\n",
              "      <td>215.944641</td>\n",
              "      <td>18621100</td>\n",
              "      <td>2020-11-13</td>\n",
              "      <td>2020-11-13 00:00:00+00:00</td>\n",
              "    </tr>\n",
              "    <tr>\n",
              "      <th>1145</th>\n",
              "      <td>214.869995</td>\n",
              "      <td>217.740005</td>\n",
              "      <td>214.520004</td>\n",
              "      <td>217.229996</td>\n",
              "      <td>216.662766</td>\n",
              "      <td>24953300</td>\n",
              "      <td>2020-11-16</td>\n",
              "      <td>2020-11-16 00:00:00+00:00</td>\n",
              "    </tr>\n",
              "    <tr>\n",
              "      <th>1146</th>\n",
              "      <td>216.100006</td>\n",
              "      <td>217.679993</td>\n",
              "      <td>214.080002</td>\n",
              "      <td>214.460007</td>\n",
              "      <td>213.900009</td>\n",
              "      <td>24154100</td>\n",
              "      <td>2020-11-17</td>\n",
              "      <td>2020-11-17 00:00:00+00:00</td>\n",
              "    </tr>\n",
              "    <tr>\n",
              "      <th>1147</th>\n",
              "      <td>213.649994</td>\n",
              "      <td>215.169998</td>\n",
              "      <td>210.929993</td>\n",
              "      <td>211.080002</td>\n",
              "      <td>211.080002</td>\n",
              "      <td>28372800</td>\n",
              "      <td>2020-11-18</td>\n",
              "      <td>2020-11-18 00:00:00+00:00</td>\n",
              "    </tr>\n",
              "    <tr>\n",
              "      <th>1148</th>\n",
              "      <td>211.380005</td>\n",
              "      <td>213.029999</td>\n",
              "      <td>209.929993</td>\n",
              "      <td>212.419998</td>\n",
              "      <td>212.419998</td>\n",
              "      <td>24792700</td>\n",
              "      <td>2020-11-19</td>\n",
              "      <td>2020-11-19 00:00:00+00:00</td>\n",
              "    </tr>\n",
              "    <tr>\n",
              "      <th>1149</th>\n",
              "      <td>212.199997</td>\n",
              "      <td>213.289993</td>\n",
              "      <td>210.000000</td>\n",
              "      <td>210.389999</td>\n",
              "      <td>210.389999</td>\n",
              "      <td>22829100</td>\n",
              "      <td>2020-11-20</td>\n",
              "      <td>2020-11-20 00:00:00+00:00</td>\n",
              "    </tr>\n",
              "    <tr>\n",
              "      <th>1150</th>\n",
              "      <td>210.949997</td>\n",
              "      <td>212.289993</td>\n",
              "      <td>208.160004</td>\n",
              "      <td>210.110001</td>\n",
              "      <td>210.110001</td>\n",
              "      <td>25683500</td>\n",
              "      <td>2020-11-23</td>\n",
              "      <td>2020-11-23 00:00:00+00:00</td>\n",
              "    </tr>\n",
              "    <tr>\n",
              "      <th>1151</th>\n",
              "      <td>209.589996</td>\n",
              "      <td>214.250000</td>\n",
              "      <td>208.860001</td>\n",
              "      <td>213.860001</td>\n",
              "      <td>213.860001</td>\n",
              "      <td>33979700</td>\n",
              "      <td>2020-11-24</td>\n",
              "      <td>2020-11-24 00:00:00+00:00</td>\n",
              "    </tr>\n",
              "    <tr>\n",
              "      <th>1152</th>\n",
              "      <td>215.110001</td>\n",
              "      <td>215.289993</td>\n",
              "      <td>212.460007</td>\n",
              "      <td>213.869995</td>\n",
              "      <td>213.869995</td>\n",
              "      <td>21012900</td>\n",
              "      <td>2020-11-25</td>\n",
              "      <td>2020-11-25 00:00:00+00:00</td>\n",
              "    </tr>\n",
              "    <tr>\n",
              "      <th>1153</th>\n",
              "      <td>214.850006</td>\n",
              "      <td>216.270004</td>\n",
              "      <td>214.039993</td>\n",
              "      <td>215.229996</td>\n",
              "      <td>215.229996</td>\n",
              "      <td>14512200</td>\n",
              "      <td>2020-11-27</td>\n",
              "      <td>2020-11-27 00:00:00+00:00</td>\n",
              "    </tr>\n",
              "  </tbody>\n",
              "</table>\n",
              "</div>"
            ],
            "text/plain": [
              "            Open        High  ...       Date                  DateTime\n",
              "1134  203.500000  204.289993  ... 2020-10-30 2020-10-30 00:00:00+00:00\n",
              "1135  204.289993  205.279999  ... 2020-11-02 2020-11-02 00:00:00+00:00\n",
              "1136  203.889999  208.119995  ... 2020-11-03 2020-11-03 00:00:00+00:00\n",
              "1137  214.020004  218.320007  ... 2020-11-04 2020-11-04 00:00:00+00:00\n",
              "1138  222.039993  224.119995  ... 2020-11-05 2020-11-05 00:00:00+00:00\n",
              "1139  222.259995  224.360001  ... 2020-11-06 2020-11-06 00:00:00+00:00\n",
              "1140  224.440002  228.119995  ... 2020-11-09 2020-11-09 00:00:00+00:00\n",
              "1141  214.500000  216.500000  ... 2020-11-10 2020-11-10 00:00:00+00:00\n",
              "1142  212.389999  218.039993  ... 2020-11-11 2020-11-11 00:00:00+00:00\n",
              "1143  217.210007  219.110001  ... 2020-11-12 2020-11-12 00:00:00+00:00\n",
              "1144  216.360001  217.419998  ... 2020-11-13 2020-11-13 00:00:00+00:00\n",
              "1145  214.869995  217.740005  ... 2020-11-16 2020-11-16 00:00:00+00:00\n",
              "1146  216.100006  217.679993  ... 2020-11-17 2020-11-17 00:00:00+00:00\n",
              "1147  213.649994  215.169998  ... 2020-11-18 2020-11-18 00:00:00+00:00\n",
              "1148  211.380005  213.029999  ... 2020-11-19 2020-11-19 00:00:00+00:00\n",
              "1149  212.199997  213.289993  ... 2020-11-20 2020-11-20 00:00:00+00:00\n",
              "1150  210.949997  212.289993  ... 2020-11-23 2020-11-23 00:00:00+00:00\n",
              "1151  209.589996  214.250000  ... 2020-11-24 2020-11-24 00:00:00+00:00\n",
              "1152  215.110001  215.289993  ... 2020-11-25 2020-11-25 00:00:00+00:00\n",
              "1153  214.850006  216.270004  ... 2020-11-27 2020-11-27 00:00:00+00:00\n",
              "\n",
              "[20 rows x 8 columns]"
            ]
          },
          "metadata": {
            "tags": []
          },
          "execution_count": 22
        }
      ]
    },
    {
      "cell_type": "code",
      "metadata": {
        "id": "0MgK92f0jeoz"
      },
      "source": [
        "train_data_index =1134"
      ],
      "execution_count": null,
      "outputs": []
    },
    {
      "cell_type": "code",
      "metadata": {
        "colab": {
          "base_uri": "https://localhost:8080/"
        },
        "id": "XsUH1XdNjeoz",
        "outputId": "93528333-214a-4e8f-a9eb-33b3dbd257a1"
      },
      "source": [
        "len(df)"
      ],
      "execution_count": null,
      "outputs": [
        {
          "output_type": "execute_result",
          "data": {
            "text/plain": [
              "1154"
            ]
          },
          "metadata": {
            "tags": []
          },
          "execution_count": 23
        }
      ]
    },
    {
      "cell_type": "markdown",
      "metadata": {
        "id": "uceqzPC4jeoz"
      },
      "source": [
        "## Pick the Stock Values to an Array and Scale it\n",
        "* Use MinMax Scaler\n",
        "* Generate X and y\n",
        "* X will have 30 Values for one value of y"
      ]
    },
    {
      "cell_type": "code",
      "metadata": {
        "id": "rGGiNtGxjeoz"
      },
      "source": [
        "Max_seq_len=30\n",
        "\n",
        "stock_values=df['Close'].tolist()"
      ],
      "execution_count": null,
      "outputs": []
    },
    {
      "cell_type": "code",
      "metadata": {
        "colab": {
          "base_uri": "https://localhost:8080/"
        },
        "id": "Ua23Mtvulo1q",
        "outputId": "d5255f34-dcb5-4c88-f0ff-4a2d62e12174"
      },
      "source": [
        "len(stock_values)"
      ],
      "execution_count": null,
      "outputs": [
        {
          "output_type": "execute_result",
          "data": {
            "text/plain": [
              "1154"
            ]
          },
          "metadata": {
            "tags": []
          },
          "execution_count": 26
        }
      ]
    },
    {
      "cell_type": "code",
      "metadata": {
        "id": "fPreOo5_jeoz"
      },
      "source": [
        "from sklearn.preprocessing import MinMaxScaler\n",
        "scaler=MinMaxScaler(feature_range=(0,1))\n",
        "stock_values=scaler.fit_transform(np.array(stock_values).reshape(-1,1))"
      ],
      "execution_count": null,
      "outputs": []
    },
    {
      "cell_type": "code",
      "metadata": {
        "colab": {
          "base_uri": "https://localhost:8080/"
        },
        "id": "WvU0vUxQlorX",
        "outputId": "6fe72ac7-3f42-42b4-c539-7e56dd8fe0a2"
      },
      "source": [
        "stock_values[0:10]"
      ],
      "execution_count": null,
      "outputs": [
        {
          "output_type": "execute_result",
          "data": {
            "text/plain": [
              "array([[0.01189827],\n",
              "       [0.00736818],\n",
              "       [0.0078594 ],\n",
              "       [0.00824145],\n",
              "       [0.01069752],\n",
              "       [0.00895098],\n",
              "       [0.01413601],\n",
              "       [0.01429974],\n",
              "       [0.01681038],\n",
              "       [0.0144635 ]])"
            ]
          },
          "metadata": {
            "tags": []
          },
          "execution_count": 29
        }
      ]
    },
    {
      "cell_type": "code",
      "metadata": {
        "colab": {
          "base_uri": "https://localhost:8080/"
        },
        "id": "Hf6dMtg2nDO2",
        "outputId": "fff1e962-da47-4139-c117-7dbd06a7e542"
      },
      "source": [
        "stock_values.shape"
      ],
      "execution_count": null,
      "outputs": [
        {
          "output_type": "execute_result",
          "data": {
            "text/plain": [
              "(1154, 1)"
            ]
          },
          "metadata": {
            "tags": []
          },
          "execution_count": 35
        }
      ]
    },
    {
      "cell_type": "markdown",
      "metadata": {
        "id": "BJbFnqxMjeoz"
      },
      "source": [
        "## Generate X and y as Per TimeSeries Data\n"
      ]
    },
    {
      "cell_type": "code",
      "metadata": {
        "id": "FwW5CWC9jeoz"
      },
      "source": [
        "X=[]\n",
        "y=[]\n",
        "for i in range(0, len(stock_values)-Max_seq_len):\n",
        "    X.append(stock_values[i:i+Max_seq_len])\n",
        "    y.append(stock_values[i+Max_seq_len])\n",
        "    #print(stock_values[i:(i+Max_seq_len)])\n",
        "    #print(stock_values[i+Max_seq_len])"
      ],
      "execution_count": null,
      "outputs": []
    },
    {
      "cell_type": "code",
      "metadata": {
        "colab": {
          "base_uri": "https://localhost:8080/"
        },
        "id": "gNUUzNFYjeoz",
        "outputId": "1e0a764e-258f-459e-9d5d-ae278c4ac73a"
      },
      "source": [
        "len(X)"
      ],
      "execution_count": null,
      "outputs": [
        {
          "output_type": "execute_result",
          "data": {
            "text/plain": [
              "1124"
            ]
          },
          "metadata": {
            "tags": []
          },
          "execution_count": 32
        }
      ]
    },
    {
      "cell_type": "code",
      "metadata": {
        "id": "QtxDAXP9jeoz"
      },
      "source": [
        "X=np.array(X)\n",
        "y=np.array(y)"
      ],
      "execution_count": null,
      "outputs": []
    },
    {
      "cell_type": "code",
      "metadata": {
        "colab": {
          "base_uri": "https://localhost:8080/"
        },
        "id": "qmK9VixKjeoz",
        "outputId": "a062420f-f1c7-4fc8-f427-798a43ba3e58"
      },
      "source": [
        "X.shape"
      ],
      "execution_count": null,
      "outputs": [
        {
          "output_type": "execute_result",
          "data": {
            "text/plain": [
              "(1124, 30, 1)"
            ]
          },
          "metadata": {
            "tags": []
          },
          "execution_count": 36
        }
      ]
    },
    {
      "cell_type": "markdown",
      "metadata": {
        "id": "00ePBXpdjeo0"
      },
      "source": [
        "### LSTM Input Should be in the below format\n",
        "* Num Samples X Sequence Length X Dimension/Features"
      ]
    },
    {
      "cell_type": "code",
      "metadata": {
        "colab": {
          "base_uri": "https://localhost:8080/"
        },
        "id": "BDfyhIPmjeo0",
        "outputId": "aaa832d3-1dd6-4edc-dea5-743753bb47c5"
      },
      "source": [
        "y.shape"
      ],
      "execution_count": null,
      "outputs": [
        {
          "output_type": "execute_result",
          "data": {
            "text/plain": [
              "(1124, 1)"
            ]
          },
          "metadata": {
            "tags": []
          },
          "execution_count": 38
        }
      ]
    },
    {
      "cell_type": "markdown",
      "metadata": {
        "id": "iv2qUR6Ijeo0"
      },
      "source": [
        "### Select Test and Train Data\n",
        "* We want to pick all Data upto 30th October 2020 as Train Data\n",
        "* Remaining will be used as the Test Data\n",
        "* Also note we need to subtract 30 from Train Dataindex that correspondds to 30th October as we lose first 30 indeces will computing X, y. As y starts only after first 30 values"
      ]
    },
    {
      "cell_type": "code",
      "metadata": {
        "id": "EsFt-ZqYjeo0"
      },
      "source": [
        "train_data_index=train_data_index-30"
      ],
      "execution_count": null,
      "outputs": []
    },
    {
      "cell_type": "code",
      "metadata": {
        "id": "B5wGI1Vljeo0"
      },
      "source": [
        "X_train= X[0:train_data_index]"
      ],
      "execution_count": null,
      "outputs": []
    },
    {
      "cell_type": "code",
      "metadata": {
        "id": "cfhrF3Uzjeo0"
      },
      "source": [
        "y_train=y[0:train_data_index]"
      ],
      "execution_count": null,
      "outputs": []
    },
    {
      "cell_type": "code",
      "metadata": {
        "id": "nQEc9Zyyjeo0"
      },
      "source": [
        "X_test=X[train_data_index:]\n",
        "y_test=y[train_data_index:]"
      ],
      "execution_count": null,
      "outputs": []
    },
    {
      "cell_type": "code",
      "metadata": {
        "colab": {
          "base_uri": "https://localhost:8080/"
        },
        "id": "TUhy9LNmjeo0",
        "outputId": "b3d896c5-35d1-4ce6-f3bd-21b7876b6a13"
      },
      "source": [
        "X_test.shape"
      ],
      "execution_count": null,
      "outputs": [
        {
          "output_type": "execute_result",
          "data": {
            "text/plain": [
              "(20, 30, 1)"
            ]
          },
          "metadata": {
            "tags": []
          },
          "execution_count": 48
        }
      ]
    },
    {
      "cell_type": "code",
      "metadata": {
        "colab": {
          "base_uri": "https://localhost:8080/"
        },
        "id": "OMSsQ8Vkjeo0",
        "outputId": "c9d16b3f-5be0-4233-f7ee-1f15a508ff45"
      },
      "source": [
        "X_train.shape"
      ],
      "execution_count": null,
      "outputs": [
        {
          "output_type": "execute_result",
          "data": {
            "text/plain": [
              "(1104, 30, 1)"
            ]
          },
          "metadata": {
            "tags": []
          },
          "execution_count": 49
        }
      ]
    },
    {
      "cell_type": "markdown",
      "metadata": {
        "id": "_LxTRxTejeo0"
      },
      "source": [
        "## Building the Network"
      ]
    },
    {
      "cell_type": "markdown",
      "metadata": {
        "id": "v-zFOukDjeo0"
      },
      "source": [
        ""
      ]
    },
    {
      "cell_type": "code",
      "metadata": {
        "id": "hPF3RvUxjeo0"
      },
      "source": [
        "from keras.preprocessing import sequence \n",
        "from keras.models import Sequential \n",
        "from keras.layers import Dense \n",
        "from keras.layers import LSTM "
      ],
      "execution_count": null,
      "outputs": []
    },
    {
      "cell_type": "code",
      "metadata": {
        "id": "V1PpmaKXjeo0"
      },
      "source": [
        "model=Sequential()\n",
        "model.add(LSTM(120,return_sequences=True, input_shape=(30,1)))\n",
        "model.add(LSTM(120,return_sequences=True))\n",
        "model.add(LSTM(120))\n",
        "model.add(Dense(1))\n",
        "model.compile(loss='mean_squared_error', optimizer='adam')"
      ],
      "execution_count": null,
      "outputs": []
    },
    {
      "cell_type": "code",
      "metadata": {
        "colab": {
          "base_uri": "https://localhost:8080/"
        },
        "id": "GyOADOmRjeo0",
        "outputId": "a3280c09-c222-4a42-9096-624df404a40a"
      },
      "source": [
        "\n",
        "model.summary()"
      ],
      "execution_count": null,
      "outputs": [
        {
          "output_type": "stream",
          "text": [
            "Model: \"sequential\"\n",
            "_________________________________________________________________\n",
            "Layer (type)                 Output Shape              Param #   \n",
            "=================================================================\n",
            "lstm (LSTM)                  (None, 30, 120)           58560     \n",
            "_________________________________________________________________\n",
            "lstm_1 (LSTM)                (None, 30, 120)           115680    \n",
            "_________________________________________________________________\n",
            "lstm_2 (LSTM)                (None, 120)               115680    \n",
            "_________________________________________________________________\n",
            "dense (Dense)                (None, 1)                 121       \n",
            "=================================================================\n",
            "Total params: 290,041\n",
            "Trainable params: 290,041\n",
            "Non-trainable params: 0\n",
            "_________________________________________________________________\n"
          ],
          "name": "stdout"
        }
      ]
    },
    {
      "cell_type": "code",
      "metadata": {
        "colab": {
          "base_uri": "https://localhost:8080/"
        },
        "id": "-kdfLWIRjeo0",
        "outputId": "bfc7c511-45ac-4edb-8f37-eb4df8c96ef5"
      },
      "source": [
        "model.fit(X_train,y_train,epochs=100,verbose=1, validation_data=(X_test,y_test))"
      ],
      "execution_count": null,
      "outputs": [
        {
          "output_type": "stream",
          "text": [
            "Epoch 1/100\n",
            "35/35 [==============================] - 3s 85ms/step - loss: 2.6031e-04 - val_loss: 0.0014\n",
            "Epoch 2/100\n",
            "35/35 [==============================] - 3s 86ms/step - loss: 2.8899e-04 - val_loss: 9.5375e-04\n",
            "Epoch 3/100\n",
            "35/35 [==============================] - 3s 87ms/step - loss: 2.6847e-04 - val_loss: 0.0013\n",
            "Epoch 4/100\n",
            "35/35 [==============================] - 3s 84ms/step - loss: 3.2503e-04 - val_loss: 9.4424e-04\n",
            "Epoch 5/100\n",
            "35/35 [==============================] - 3s 82ms/step - loss: 2.5397e-04 - val_loss: 0.0014\n",
            "Epoch 6/100\n",
            "35/35 [==============================] - 3s 84ms/step - loss: 2.9166e-04 - val_loss: 0.0016\n",
            "Epoch 7/100\n",
            "35/35 [==============================] - 3s 83ms/step - loss: 4.4134e-04 - val_loss: 8.9846e-04\n",
            "Epoch 8/100\n",
            "35/35 [==============================] - 3s 82ms/step - loss: 2.7811e-04 - val_loss: 0.0029\n",
            "Epoch 9/100\n",
            "35/35 [==============================] - 3s 85ms/step - loss: 3.9209e-04 - val_loss: 8.6945e-04\n",
            "Epoch 10/100\n",
            "35/35 [==============================] - 3s 82ms/step - loss: 1.9969e-04 - val_loss: 9.1535e-04\n",
            "Epoch 11/100\n",
            "35/35 [==============================] - 3s 83ms/step - loss: 2.5780e-04 - val_loss: 0.0053\n",
            "Epoch 12/100\n",
            "35/35 [==============================] - 3s 82ms/step - loss: 2.6602e-04 - val_loss: 0.0011\n",
            "Epoch 13/100\n",
            "35/35 [==============================] - 3s 83ms/step - loss: 2.0235e-04 - val_loss: 7.7946e-04\n",
            "Epoch 14/100\n",
            "35/35 [==============================] - 3s 86ms/step - loss: 2.6238e-04 - val_loss: 7.2987e-04\n",
            "Epoch 15/100\n",
            "35/35 [==============================] - 3s 84ms/step - loss: 2.2602e-04 - val_loss: 0.0015\n",
            "Epoch 16/100\n",
            "35/35 [==============================] - 3s 84ms/step - loss: 2.7591e-04 - val_loss: 9.5147e-04\n",
            "Epoch 17/100\n",
            "35/35 [==============================] - 3s 86ms/step - loss: 2.1671e-04 - val_loss: 8.3092e-04\n",
            "Epoch 18/100\n",
            "35/35 [==============================] - 3s 85ms/step - loss: 1.9872e-04 - val_loss: 7.5826e-04\n",
            "Epoch 19/100\n",
            "35/35 [==============================] - 3s 82ms/step - loss: 2.3701e-04 - val_loss: 0.0013\n",
            "Epoch 20/100\n",
            "35/35 [==============================] - 3s 84ms/step - loss: 2.5367e-04 - val_loss: 0.0015\n",
            "Epoch 21/100\n",
            "35/35 [==============================] - 3s 83ms/step - loss: 2.3949e-04 - val_loss: 0.0016\n",
            "Epoch 22/100\n",
            "35/35 [==============================] - 3s 84ms/step - loss: 2.4587e-04 - val_loss: 7.7350e-04\n",
            "Epoch 23/100\n",
            "35/35 [==============================] - 3s 84ms/step - loss: 3.2721e-04 - val_loss: 0.0014\n",
            "Epoch 24/100\n",
            "35/35 [==============================] - 3s 83ms/step - loss: 2.7872e-04 - val_loss: 6.6387e-04\n",
            "Epoch 25/100\n",
            "35/35 [==============================] - 3s 83ms/step - loss: 2.4960e-04 - val_loss: 0.0011\n",
            "Epoch 26/100\n",
            "35/35 [==============================] - 3s 84ms/step - loss: 2.0765e-04 - val_loss: 0.0015\n",
            "Epoch 27/100\n",
            "35/35 [==============================] - 3s 83ms/step - loss: 2.1483e-04 - val_loss: 9.3095e-04\n",
            "Epoch 28/100\n",
            "35/35 [==============================] - 3s 84ms/step - loss: 2.0348e-04 - val_loss: 6.5098e-04\n",
            "Epoch 29/100\n",
            "35/35 [==============================] - 3s 83ms/step - loss: 2.3354e-04 - val_loss: 6.1045e-04\n",
            "Epoch 30/100\n",
            "35/35 [==============================] - 3s 82ms/step - loss: 2.4246e-04 - val_loss: 7.4973e-04\n",
            "Epoch 31/100\n",
            "35/35 [==============================] - 3s 83ms/step - loss: 2.2657e-04 - val_loss: 9.2378e-04\n",
            "Epoch 32/100\n",
            "35/35 [==============================] - 3s 81ms/step - loss: 2.2645e-04 - val_loss: 0.0012\n",
            "Epoch 33/100\n",
            "35/35 [==============================] - 3s 83ms/step - loss: 3.4820e-04 - val_loss: 0.0013\n",
            "Epoch 34/100\n",
            "35/35 [==============================] - 3s 82ms/step - loss: 2.2930e-04 - val_loss: 6.8963e-04\n",
            "Epoch 35/100\n",
            "35/35 [==============================] - 3s 88ms/step - loss: 1.9800e-04 - val_loss: 5.8124e-04\n",
            "Epoch 36/100\n",
            "35/35 [==============================] - 3s 85ms/step - loss: 1.8996e-04 - val_loss: 6.7529e-04\n",
            "Epoch 37/100\n",
            "35/35 [==============================] - 3s 83ms/step - loss: 1.8949e-04 - val_loss: 6.0224e-04\n",
            "Epoch 38/100\n",
            "35/35 [==============================] - 3s 84ms/step - loss: 1.9162e-04 - val_loss: 0.0014\n",
            "Epoch 39/100\n",
            "35/35 [==============================] - 3s 83ms/step - loss: 2.1352e-04 - val_loss: 5.9020e-04\n",
            "Epoch 40/100\n",
            "35/35 [==============================] - 3s 83ms/step - loss: 2.5275e-04 - val_loss: 6.8474e-04\n",
            "Epoch 41/100\n",
            "35/35 [==============================] - 3s 83ms/step - loss: 2.2990e-04 - val_loss: 5.5753e-04\n",
            "Epoch 42/100\n",
            "35/35 [==============================] - 3s 83ms/step - loss: 2.0766e-04 - val_loss: 5.6916e-04\n",
            "Epoch 43/100\n",
            "35/35 [==============================] - 3s 82ms/step - loss: 2.3007e-04 - val_loss: 9.4530e-04\n",
            "Epoch 44/100\n",
            "35/35 [==============================] - 3s 82ms/step - loss: 2.1175e-04 - val_loss: 0.0011\n",
            "Epoch 45/100\n",
            "35/35 [==============================] - 3s 83ms/step - loss: 2.0426e-04 - val_loss: 5.8493e-04\n",
            "Epoch 46/100\n",
            "35/35 [==============================] - 3s 83ms/step - loss: 2.7341e-04 - val_loss: 5.9355e-04\n",
            "Epoch 47/100\n",
            "35/35 [==============================] - 3s 83ms/step - loss: 2.3068e-04 - val_loss: 0.0013\n",
            "Epoch 48/100\n",
            "35/35 [==============================] - 3s 84ms/step - loss: 1.8841e-04 - val_loss: 5.8900e-04\n",
            "Epoch 49/100\n",
            "35/35 [==============================] - 3s 86ms/step - loss: 2.1332e-04 - val_loss: 5.9289e-04\n",
            "Epoch 50/100\n",
            "35/35 [==============================] - 3s 85ms/step - loss: 2.3830e-04 - val_loss: 6.6159e-04\n",
            "Epoch 51/100\n",
            "35/35 [==============================] - 3s 82ms/step - loss: 2.4144e-04 - val_loss: 9.8693e-04\n",
            "Epoch 52/100\n",
            "35/35 [==============================] - 3s 83ms/step - loss: 2.8520e-04 - val_loss: 0.0011\n",
            "Epoch 53/100\n",
            "35/35 [==============================] - 3s 82ms/step - loss: 5.2477e-04 - val_loss: 5.0991e-04\n",
            "Epoch 54/100\n",
            "35/35 [==============================] - 3s 82ms/step - loss: 2.7447e-04 - val_loss: 0.0010\n",
            "Epoch 55/100\n",
            "35/35 [==============================] - 3s 84ms/step - loss: 2.3595e-04 - val_loss: 5.9704e-04\n",
            "Epoch 56/100\n",
            "35/35 [==============================] - 3s 82ms/step - loss: 2.1020e-04 - val_loss: 5.8534e-04\n",
            "Epoch 57/100\n",
            "35/35 [==============================] - 3s 86ms/step - loss: 1.9522e-04 - val_loss: 5.9346e-04\n",
            "Epoch 58/100\n",
            "35/35 [==============================] - 3s 83ms/step - loss: 1.9947e-04 - val_loss: 5.3279e-04\n",
            "Epoch 59/100\n",
            "35/35 [==============================] - 3s 84ms/step - loss: 2.4477e-04 - val_loss: 0.0017\n",
            "Epoch 60/100\n",
            "35/35 [==============================] - 3s 82ms/step - loss: 2.1623e-04 - val_loss: 6.1138e-04\n",
            "Epoch 61/100\n",
            "35/35 [==============================] - 3s 82ms/step - loss: 1.9637e-04 - val_loss: 5.4040e-04\n",
            "Epoch 62/100\n",
            "35/35 [==============================] - 3s 83ms/step - loss: 2.0988e-04 - val_loss: 7.5117e-04\n",
            "Epoch 63/100\n",
            "35/35 [==============================] - 3s 83ms/step - loss: 2.5211e-04 - val_loss: 9.3888e-04\n",
            "Epoch 64/100\n",
            "35/35 [==============================] - 3s 81ms/step - loss: 2.8793e-04 - val_loss: 0.0011\n",
            "Epoch 65/100\n",
            "35/35 [==============================] - 3s 84ms/step - loss: 1.9480e-04 - val_loss: 5.4773e-04\n",
            "Epoch 66/100\n",
            "35/35 [==============================] - 3s 82ms/step - loss: 2.0885e-04 - val_loss: 7.5891e-04\n",
            "Epoch 67/100\n",
            "35/35 [==============================] - 3s 84ms/step - loss: 2.4775e-04 - val_loss: 6.6833e-04\n",
            "Epoch 68/100\n",
            "35/35 [==============================] - 3s 82ms/step - loss: 2.1196e-04 - val_loss: 8.1937e-04\n",
            "Epoch 69/100\n",
            "35/35 [==============================] - 3s 84ms/step - loss: 2.4877e-04 - val_loss: 6.9598e-04\n",
            "Epoch 70/100\n",
            "35/35 [==============================] - 3s 84ms/step - loss: 2.4283e-04 - val_loss: 7.9098e-04\n",
            "Epoch 71/100\n",
            "35/35 [==============================] - 3s 82ms/step - loss: 2.1239e-04 - val_loss: 5.2081e-04\n",
            "Epoch 72/100\n",
            "35/35 [==============================] - 3s 83ms/step - loss: 2.3587e-04 - val_loss: 0.0010\n",
            "Epoch 73/100\n",
            "35/35 [==============================] - 3s 83ms/step - loss: 2.2595e-04 - val_loss: 6.7294e-04\n",
            "Epoch 74/100\n",
            "35/35 [==============================] - 3s 83ms/step - loss: 1.9622e-04 - val_loss: 8.6504e-04\n",
            "Epoch 75/100\n",
            "35/35 [==============================] - 3s 82ms/step - loss: 2.7202e-04 - val_loss: 5.0278e-04\n",
            "Epoch 76/100\n",
            "35/35 [==============================] - 3s 82ms/step - loss: 1.9035e-04 - val_loss: 5.3735e-04\n",
            "Epoch 77/100\n",
            "35/35 [==============================] - 3s 85ms/step - loss: 2.1088e-04 - val_loss: 5.8312e-04\n",
            "Epoch 78/100\n",
            "35/35 [==============================] - 3s 83ms/step - loss: 2.3959e-04 - val_loss: 5.9210e-04\n",
            "Epoch 79/100\n",
            "35/35 [==============================] - 3s 83ms/step - loss: 1.9557e-04 - val_loss: 5.2259e-04\n",
            "Epoch 80/100\n",
            "35/35 [==============================] - 3s 83ms/step - loss: 2.5123e-04 - val_loss: 5.7369e-04\n",
            "Epoch 81/100\n",
            "35/35 [==============================] - 3s 82ms/step - loss: 2.1251e-04 - val_loss: 6.4810e-04\n",
            "Epoch 82/100\n",
            "35/35 [==============================] - 3s 83ms/step - loss: 1.9041e-04 - val_loss: 5.8291e-04\n",
            "Epoch 83/100\n",
            "35/35 [==============================] - 3s 86ms/step - loss: 2.0987e-04 - val_loss: 8.0168e-04\n",
            "Epoch 84/100\n",
            "35/35 [==============================] - 3s 82ms/step - loss: 3.0956e-04 - val_loss: 0.0012\n",
            "Epoch 85/100\n",
            "35/35 [==============================] - 3s 82ms/step - loss: 2.2574e-04 - val_loss: 5.4092e-04\n",
            "Epoch 86/100\n",
            "35/35 [==============================] - 3s 85ms/step - loss: 2.1488e-04 - val_loss: 6.9567e-04\n",
            "Epoch 87/100\n",
            "35/35 [==============================] - 3s 84ms/step - loss: 1.9409e-04 - val_loss: 6.0072e-04\n",
            "Epoch 88/100\n",
            "35/35 [==============================] - 3s 84ms/step - loss: 2.6460e-04 - val_loss: 5.1927e-04\n",
            "Epoch 89/100\n",
            "35/35 [==============================] - 3s 85ms/step - loss: 1.8963e-04 - val_loss: 5.2531e-04\n",
            "Epoch 90/100\n",
            "35/35 [==============================] - 3s 83ms/step - loss: 3.0735e-04 - val_loss: 0.0016\n",
            "Epoch 91/100\n",
            "35/35 [==============================] - 3s 84ms/step - loss: 2.3497e-04 - val_loss: 5.3639e-04\n",
            "Epoch 92/100\n",
            "35/35 [==============================] - 3s 85ms/step - loss: 1.8973e-04 - val_loss: 0.0011\n",
            "Epoch 93/100\n",
            "35/35 [==============================] - 3s 84ms/step - loss: 2.0160e-04 - val_loss: 5.4748e-04\n",
            "Epoch 94/100\n",
            "35/35 [==============================] - 3s 84ms/step - loss: 2.2548e-04 - val_loss: 5.6403e-04\n",
            "Epoch 95/100\n",
            "35/35 [==============================] - 3s 86ms/step - loss: 2.2087e-04 - val_loss: 8.7750e-04\n",
            "Epoch 96/100\n",
            "35/35 [==============================] - 3s 86ms/step - loss: 1.7962e-04 - val_loss: 5.9802e-04\n",
            "Epoch 97/100\n",
            "35/35 [==============================] - 3s 83ms/step - loss: 2.9561e-04 - val_loss: 0.0018\n",
            "Epoch 98/100\n",
            "35/35 [==============================] - 3s 82ms/step - loss: 2.1575e-04 - val_loss: 0.0012\n",
            "Epoch 99/100\n",
            "35/35 [==============================] - 3s 86ms/step - loss: 2.2581e-04 - val_loss: 5.0375e-04\n",
            "Epoch 100/100\n",
            "35/35 [==============================] - 3s 82ms/step - loss: 1.7589e-04 - val_loss: 5.4505e-04\n"
          ],
          "name": "stdout"
        },
        {
          "output_type": "execute_result",
          "data": {
            "text/plain": [
              "<tensorflow.python.keras.callbacks.History at 0x7f556e47ed30>"
            ]
          },
          "metadata": {
            "tags": []
          },
          "execution_count": 54
        }
      ]
    },
    {
      "cell_type": "code",
      "metadata": {
        "colab": {
          "base_uri": "https://localhost:8080/"
        },
        "id": "lxmMRdf8jeo0",
        "outputId": "c3f35cb9-876c-4c35-ee22-fca1f48d60de"
      },
      "source": [
        "model.predict(X_test)"
      ],
      "execution_count": null,
      "outputs": [
        {
          "output_type": "execute_result",
          "data": {
            "text/plain": [
              "array([[0.8538484 ],\n",
              "       [0.8513049 ],\n",
              "       [0.85231686],\n",
              "       [0.8706762 ],\n",
              "       [0.9191212 ],\n",
              "       [0.96314895],\n",
              "       [0.969723  ],\n",
              "       [0.93730646],\n",
              "       [0.8914972 ],\n",
              "       [0.90626544],\n",
              "       [0.91908026],\n",
              "       [0.9281357 ],\n",
              "       [0.93211436],\n",
              "       [0.9186608 ],\n",
              "       [0.897155  ],\n",
              "       [0.89672524],\n",
              "       [0.89244443],\n",
              "       [0.8902877 ],\n",
              "       [0.9061534 ],\n",
              "       [0.9125891 ]], dtype=float32)"
            ]
          },
          "metadata": {
            "tags": []
          },
          "execution_count": 55
        }
      ]
    },
    {
      "cell_type": "code",
      "metadata": {
        "id": "nrgfcAH9jeo1"
      },
      "source": [
        "train_predict=model.predict(X_train)\n",
        "test_predict=model.predict(X_test)"
      ],
      "execution_count": null,
      "outputs": []
    },
    {
      "cell_type": "code",
      "metadata": {
        "id": "pj9vH16cjeo1"
      },
      "source": [
        "train_predict=scaler.inverse_transform(train_predict)\n",
        "test_predict=scaler.inverse_transform(test_predict)\n",
        "y_train_before_transform=scaler.inverse_transform(y_train)\n",
        "y_test_before_transform = scaler.inverse_transform(y_test)"
      ],
      "execution_count": null,
      "outputs": []
    },
    {
      "cell_type": "code",
      "metadata": {
        "id": "5QL2GJ9Wjeo1",
        "colab": {
          "base_uri": "https://localhost:8080/"
        },
        "outputId": "27c3f0ed-eb58-4d9b-bdda-fd1a7f399019"
      },
      "source": [
        "train_predict[0:5]"
      ],
      "execution_count": null,
      "outputs": [
        {
          "output_type": "execute_result",
          "data": {
            "text/plain": [
              "array([[51.78835 ],\n",
              "       [51.2767  ],\n",
              "       [50.848923],\n",
              "       [50.740772],\n",
              "       [50.75437 ]], dtype=float32)"
            ]
          },
          "metadata": {
            "tags": []
          },
          "execution_count": 58
        }
      ]
    },
    {
      "cell_type": "code",
      "metadata": {
        "id": "UTZjVa2Ujeo1",
        "colab": {
          "base_uri": "https://localhost:8080/"
        },
        "outputId": "2682c693-4498-441f-ef34-fd6961ca5158"
      },
      "source": [
        "test_predict[0:5]"
      ],
      "execution_count": null,
      "outputs": [
        {
          "output_type": "execute_result",
          "data": {
            "text/plain": [
              "array([[204.87212],\n",
              "       [204.40608],\n",
              "       [204.59149],\n",
              "       [207.9553 ],\n",
              "       [216.83139]], dtype=float32)"
            ]
          },
          "metadata": {
            "tags": []
          },
          "execution_count": 59
        }
      ]
    },
    {
      "cell_type": "code",
      "metadata": {
        "id": "c6f-TjIFjeo1",
        "colab": {
          "base_uri": "https://localhost:8080/"
        },
        "outputId": "ecf36173-7f20-48b5-8edb-50bc59f9779c"
      },
      "source": [
        "y_train_before_transform[0:5]"
      ],
      "execution_count": null,
      "outputs": [
        {
          "output_type": "execute_result",
          "data": {
            "text/plain": [
              "array([[49.83000183],\n",
              "       [49.68999863],\n",
              "       [50.38999939],\n",
              "       [50.13000107],\n",
              "       [50.06999969]])"
            ]
          },
          "metadata": {
            "tags": []
          },
          "execution_count": 60
        }
      ]
    },
    {
      "cell_type": "code",
      "metadata": {
        "colab": {
          "base_uri": "https://localhost:8080/"
        },
        "id": "NhfGuHWZjeo1",
        "outputId": "210b5c1e-50ac-4931-963e-9dbb848c5ff6"
      },
      "source": [
        "import math\n",
        "from sklearn.metrics import mean_squared_error\n",
        "math.sqrt(mean_squared_error(y_train,train_predict))"
      ],
      "execution_count": null,
      "outputs": [
        {
          "output_type": "execute_result",
          "data": {
            "text/plain": [
              "121.59013698724513"
            ]
          },
          "metadata": {
            "tags": []
          },
          "execution_count": 61
        }
      ]
    },
    {
      "cell_type": "code",
      "metadata": {
        "colab": {
          "base_uri": "https://localhost:8080/"
        },
        "id": "2iwL_5Ctjeo1",
        "outputId": "b338c6b7-1f54-4cad-ca82-128168142430"
      },
      "source": [
        "y_train.shape"
      ],
      "execution_count": null,
      "outputs": [
        {
          "output_type": "execute_result",
          "data": {
            "text/plain": [
              "(1104, 1)"
            ]
          },
          "metadata": {
            "tags": []
          },
          "execution_count": 62
        }
      ]
    },
    {
      "cell_type": "code",
      "metadata": {
        "colab": {
          "base_uri": "https://localhost:8080/"
        },
        "id": "FR_p1Oz4jeo1",
        "outputId": "932207a9-782b-4495-cf98-151cf6b273ff"
      },
      "source": [
        "train_predict.shape"
      ],
      "execution_count": null,
      "outputs": [
        {
          "output_type": "execute_result",
          "data": {
            "text/plain": [
              "(1104, 1)"
            ]
          },
          "metadata": {
            "tags": []
          },
          "execution_count": 63
        }
      ]
    },
    {
      "cell_type": "code",
      "metadata": {
        "colab": {
          "base_uri": "https://localhost:8080/",
          "height": 863
        },
        "id": "2Ca2XvPhjeo2",
        "outputId": "1be5813c-49ed-4868-af26-0a22d177cda4"
      },
      "source": [
        "\n",
        "plt.figure(figsize=(15,15))\n",
        "plt.plot(y_test_before_transform)\n",
        "plt.plot(test_predict)\n",
        "\n",
        "plt.show()"
      ],
      "execution_count": null,
      "outputs": [
        {
          "output_type": "display_data",
          "data": {
            "image/png": "[encoded data removed]",
            "text/plain": [
              "<Figure size 1080x1080 with 1 Axes>"
            ]
          },
          "metadata": {
            "tags": [],
            "needs_background": "light"
          }
        }
      ]
    },
    {
      "cell_type": "code",
      "metadata": {
        "colab": {
          "base_uri": "https://localhost:8080/",
          "height": 466
        },
        "id": "sI7qhOXHjeo2",
        "outputId": "4ddcbef2-7c40-4dc4-e1fe-5375bdbaa6a9"
      },
      "source": [
        "from tensorflow.keras.utils import plot_model\n",
        "plot_model(model)"
      ],
      "execution_count": null,
      "outputs": [
        {
          "output_type": "execute_result",
          "data": {
            "image/png": "[encoded data removed]",
            "text/plain": [
              "<IPython.core.display.Image object>"
            ]
          },
          "metadata": {
            "tags": []
          },
          "execution_count": 67
        }
      ]
    },
    {
      "cell_type": "markdown",
      "metadata": {
        "id": "Kb6NlsLutAun"
      },
      "source": [
        "\n",
        "## Assignments 3\n",
        "\n",
        "* Stock Market Prediction - Choose Google Stock and rerun the Program\n",
        "\n",
        "* Choose Max Seq Length to 20 and check the results\n",
        "\n",
        "* Add/Delete an LSTM Layers and rerun the Program, change the Parameters and rerun the Program\n",
        "\n"
      ]
    }
  ]
}