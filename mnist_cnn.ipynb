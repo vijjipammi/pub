{
  "nbformat": 4,
  "nbformat_minor": 0,
  "metadata": {
    "kernelspec": {
      "display_name": "Python 3",
      "language": "python",
      "name": "python3"
    },
    "language_info": {
      "codemirror_mode": {
        "name": "ipython",
        "version": 3
      },
      "file_extension": ".py",
      "mimetype": "text/x-python",
      "name": "python",
      "nbconvert_exporter": "python",
      "pygments_lexer": "ipython3",
      "version": "3.7.4"
    },
    "colab": {
      "name": "mnist-cnn.ipynb",
      "provenance": [],
      "collapsed_sections": [],
      "include_colab_link": true
    },
    "accelerator": "GPU"
  },
  "cells": [
    {
      "cell_type": "markdown",
      "metadata": {
        "id": "view-in-github",
        "colab_type": "text"
      },
      "source": [
        "<a href=\"https://colab.research.google.com/github/vijjipammi/pub/blob/main/mnist_cnn.ipynb\" target=\"_parent\"><img src=\"https://colab.research.google.com/assets/colab-badge.svg\" alt=\"Open In Colab\"/></a>"
      ]
    },
    {
      "cell_type": "markdown",
      "metadata": {
        "id": "-0bg0oXfzn-o"
      },
      "source": [
        "## BASIC TENSORFLOW MODEL - MNIST-FASHIONMNIST"
      ]
    },
    {
      "cell_type": "code",
      "metadata": {
        "id": "sq8TIqN_zn-o"
      },
      "source": [
        "import os"
      ],
      "execution_count": null,
      "outputs": []
    },
    {
      "cell_type": "code",
      "metadata": {
        "id": "QrdzvwZzzn-p"
      },
      "source": [
        "#!pip install tensorflow==2.2.0"
      ],
      "execution_count": null,
      "outputs": []
    },
    {
      "cell_type": "markdown",
      "metadata": {
        "id": "lg-ywYfjzn-p"
      },
      "source": [
        "## A Simple Deep learning Model with Tensorflow"
      ]
    },
    {
      "cell_type": "code",
      "metadata": {
        "id": "MS6qDd78zn-p"
      },
      "source": [
        "# TensorFlow and tf.keras\n",
        "import tensorflow as tf\n",
        "from tensorflow import keras\n",
        "\n",
        "# Helper libraries\n",
        "import numpy as np\n",
        "import matplotlib.pyplot as plt"
      ],
      "execution_count": null,
      "outputs": []
    },
    {
      "cell_type": "markdown",
      "metadata": {
        "id": "JzXVsfu5zn-p"
      },
      "source": [
        "### Load the data"
      ]
    },
    {
      "cell_type": "code",
      "metadata": {
        "id": "ApQEkFJazn-p"
      },
      "source": [
        "mnist = keras.datasets.mnist\n",
        "\n",
        "(trainImgs, trainLabels), (testImgs, testLabels) = mnist.load_data()"
      ],
      "execution_count": null,
      "outputs": []
    },
    {
      "cell_type": "code",
      "metadata": {
        "colab": {
          "base_uri": "https://localhost:8080/"
        },
        "id": "ygtXYrI2zn-p",
        "outputId": "6349e1ce-ec8c-48f3-b8be-9ce1020f0a26"
      },
      "source": [
        "trainImgs.shape"
      ],
      "execution_count": null,
      "outputs": [
        {
          "output_type": "execute_result",
          "data": {
            "text/plain": [
              "(60000, 28, 28)"
            ]
          },
          "metadata": {
            "tags": []
          },
          "execution_count": 15
        }
      ]
    },
    {
      "cell_type": "code",
      "metadata": {
        "colab": {
          "base_uri": "https://localhost:8080/"
        },
        "id": "ZrcD5O_lzn-p",
        "outputId": "7e61c10e-8095-4f5e-ce5a-3787cc946b66"
      },
      "source": [
        "len(trainLabels)"
      ],
      "execution_count": null,
      "outputs": [
        {
          "output_type": "execute_result",
          "data": {
            "text/plain": [
              "60000"
            ]
          },
          "metadata": {
            "tags": []
          },
          "execution_count": 16
        }
      ]
    },
    {
      "cell_type": "code",
      "metadata": {
        "colab": {
          "base_uri": "https://localhost:8080/"
        },
        "id": "qYugIO-Pzn-q",
        "outputId": "63dedeb5-7946-4868-adc3-784d2de74c10"
      },
      "source": [
        "trainLabels"
      ],
      "execution_count": null,
      "outputs": [
        {
          "output_type": "execute_result",
          "data": {
            "text/plain": [
              "array([5, 0, 4, ..., 5, 6, 8], dtype=uint8)"
            ]
          },
          "metadata": {
            "tags": []
          },
          "execution_count": 17
        }
      ]
    },
    {
      "cell_type": "code",
      "metadata": {
        "colab": {
          "base_uri": "https://localhost:8080/"
        },
        "id": "QGnO-9O4zn-q",
        "outputId": "eb133410-6052-4d52-8f4f-05d751a68652"
      },
      "source": [
        "len(trainLabels)"
      ],
      "execution_count": null,
      "outputs": [
        {
          "output_type": "execute_result",
          "data": {
            "text/plain": [
              "60000"
            ]
          },
          "metadata": {
            "tags": []
          },
          "execution_count": 18
        }
      ]
    },
    {
      "cell_type": "code",
      "metadata": {
        "colab": {
          "base_uri": "https://localhost:8080/"
        },
        "id": "aQ_zwK1Fzn-q",
        "outputId": "4375bede-0418-45a1-95a2-97392d1883af"
      },
      "source": [
        "testImgs.shape"
      ],
      "execution_count": null,
      "outputs": [
        {
          "output_type": "execute_result",
          "data": {
            "text/plain": [
              "(10000, 28, 28)"
            ]
          },
          "metadata": {
            "tags": []
          },
          "execution_count": 19
        }
      ]
    },
    {
      "cell_type": "code",
      "metadata": {
        "colab": {
          "base_uri": "https://localhost:8080/"
        },
        "id": "hR2du4a-zn-q",
        "outputId": "4c87bd4f-e1f1-44ff-92dd-bf9b9b5f1b39"
      },
      "source": [
        "len(testLabels)"
      ],
      "execution_count": null,
      "outputs": [
        {
          "output_type": "execute_result",
          "data": {
            "text/plain": [
              "10000"
            ]
          },
          "metadata": {
            "tags": []
          },
          "execution_count": 20
        }
      ]
    },
    {
      "cell_type": "code",
      "metadata": {
        "id": "Qz3adFdqzn-q"
      },
      "source": [
        "class_names=['Zero','One','Two', 'Three','Four','Five','Six', 'Seven','Eight', 'Nine']"
      ],
      "execution_count": null,
      "outputs": []
    },
    {
      "cell_type": "code",
      "metadata": {
        "colab": {
          "base_uri": "https://localhost:8080/",
          "height": 34
        },
        "id": "UxvYNQQ1zn-q",
        "outputId": "9087e4ce-2565-40bf-8b02-c6b12e3b0994"
      },
      "source": [
        "class_names[5]"
      ],
      "execution_count": null,
      "outputs": [
        {
          "output_type": "execute_result",
          "data": {
            "application/vnd.google.colaboratory.intrinsic+json": {
              "type": "string"
            },
            "text/plain": [
              "'Five'"
            ]
          },
          "metadata": {
            "tags": []
          },
          "execution_count": 22
        }
      ]
    },
    {
      "cell_type": "code",
      "metadata": {
        "colab": {
          "base_uri": "https://localhost:8080/",
          "height": 281
        },
        "id": "oTh4eD4Azn-q",
        "outputId": "035e4b72-a197-483a-f19d-a3bee3bcf600"
      },
      "source": [
        "plt.figure()\n",
        "plt.imshow(trainImgs[10])\n",
        "plt.colorbar()\n",
        "plt.grid(False)\n",
        "plt.title(class_names[trainLabels[10]])\n",
        "plt.show()"
      ],
      "execution_count": null,
      "outputs": [
        {
          "output_type": "display_data",
          "data": {
            "image/png": "[encoded data removed]",
            "text/plain": [
              "<Figure size 432x288 with 2 Axes>"
            ]
          },
          "metadata": {
            "tags": [],
            "needs_background": "light"
          }
        }
      ]
    },
    {
      "cell_type": "markdown",
      "metadata": {
        "id": "SRUT2wrE9mIZ"
      },
      "source": [
        "## Normalize the Images\n"
      ]
    },
    {
      "cell_type": "code",
      "metadata": {
        "id": "fQ7TZPwOzn-q"
      },
      "source": [
        "trainImgs = trainImgs / 255.0\n",
        "\n",
        "testImgs = testImgs / 255.0"
      ],
      "execution_count": null,
      "outputs": []
    },
    {
      "cell_type": "markdown",
      "metadata": {
        "id": "TRfrKs4s9sQ_"
      },
      "source": [
        "## Print the Images"
      ]
    },
    {
      "cell_type": "code",
      "metadata": {
        "colab": {
          "base_uri": "https://localhost:8080/",
          "height": 1000
        },
        "id": "Ugw-acVrzn-q",
        "outputId": "8825f8b8-5015-47d2-d51a-3d8f6b3dfd6b"
      },
      "source": [
        "plt.figure(figsize=(20,20))\n",
        "for i in range(30):\n",
        "    plt.subplot(5,6,i+1)\n",
        "    plt.imshow(trainImgs[i], cmap=plt.cm.binary)\n",
        "    plt.xlabel(class_names[trainLabels[i]],size=30)\n",
        "plt.show()"
      ],
      "execution_count": null,
      "outputs": [
        {
          "output_type": "display_data",
          "data": {
            "image/png": "[encoded data removed]",
            "text/plain": [
              "<Figure size 1440x1440 with 30 Axes>"
            ]
          },
          "metadata": {
            "tags": [],
            "needs_background": "light"
          }
        }
      ]
    },
    {
      "cell_type": "markdown",
      "metadata": {
        "id": "DvbM4nQdzn-q"
      },
      "source": [
        "model = keras.Sequential([\n",
        "    keras.layers.Flatten(input_shape=(28, 28)),\n",
        "    keras.layers.Dense(128, activation='relu'),\n",
        "    keras.layers.Dense(10)\n",
        "])"
      ]
    },
    {
      "cell_type": "markdown",
      "metadata": {
        "id": "FizHiE4Z9xX4"
      },
      "source": [
        "## Build a Simple Linear/Dense Model"
      ]
    },
    {
      "cell_type": "code",
      "metadata": {
        "id": "zOzLc5Pczn-q"
      },
      "source": [
        "\n",
        "inputs = tf.keras.Input(shape=(28,28))\n",
        "x = keras.layers.Flatten(input_shape=(28, 28))(inputs)\n",
        "x = tf.keras.layers.Dense(256, activation=tf.nn.relu)(x)\n",
        "x = tf.keras.layers.Dense(128, activation=tf.nn.relu)(x)\n",
        "outputs = tf.keras.layers.Dense(10)(x)\n",
        "model = tf.keras.Model(inputs=inputs, outputs=outputs)"
      ],
      "execution_count": null,
      "outputs": []
    },
    {
      "cell_type": "markdown",
      "metadata": {
        "id": "EGx0i9Zc92Sg"
      },
      "source": [
        "## Compile the Model"
      ]
    },
    {
      "cell_type": "code",
      "metadata": {
        "id": "dllZb_DQzn-q"
      },
      "source": [
        "model.compile(optimizer='adam',\n",
        "              loss=tf.keras.losses.SparseCategoricalCrossentropy(from_logits=True),\n",
        "              metrics=['accuracy'])"
      ],
      "execution_count": null,
      "outputs": []
    },
    {
      "cell_type": "markdown",
      "metadata": {
        "id": "bLZlt5O5951Z"
      },
      "source": [
        "## Train the Model"
      ]
    },
    {
      "cell_type": "code",
      "metadata": {
        "colab": {
          "base_uri": "https://localhost:8080/"
        },
        "id": "2HEzdNQSzn-q",
        "outputId": "a77289d2-faf7-4d1c-a622-fd0de39d4e83"
      },
      "source": [
        "model.fit(trainImgs, trainLabels, epochs=5)\n"
      ],
      "execution_count": null,
      "outputs": [
        {
          "output_type": "stream",
          "text": [
            "Epoch 1/5\n",
            "1875/1875 [==============================] - 3s 2ms/step - loss: 0.2044 - accuracy: 0.9387\n",
            "Epoch 2/5\n",
            "1875/1875 [==============================] - 3s 2ms/step - loss: 0.0857 - accuracy: 0.9737\n",
            "Epoch 3/5\n",
            "1875/1875 [==============================] - 3s 2ms/step - loss: 0.0600 - accuracy: 0.9814\n",
            "Epoch 4/5\n",
            "1875/1875 [==============================] - 3s 2ms/step - loss: 0.0424 - accuracy: 0.9865\n",
            "Epoch 5/5\n",
            "1875/1875 [==============================] - 3s 2ms/step - loss: 0.0341 - accuracy: 0.9891\n"
          ],
          "name": "stdout"
        },
        {
          "output_type": "execute_result",
          "data": {
            "text/plain": [
              "<tensorflow.python.keras.callbacks.History at 0x7fbb565c9eb8>"
            ]
          },
          "metadata": {
            "tags": []
          },
          "execution_count": 29
        }
      ]
    },
    {
      "cell_type": "markdown",
      "metadata": {
        "id": "ZI0lDLDA9-6d"
      },
      "source": [
        "## Calculate the Accuracy on Test Set"
      ]
    },
    {
      "cell_type": "code",
      "metadata": {
        "colab": {
          "base_uri": "https://localhost:8080/"
        },
        "id": "toU19CkNzn-q",
        "outputId": "37f06fcd-0130-4ae4-a717-ee89ca285e1a"
      },
      "source": [
        "test_loss, test_acc = model.evaluate(testImgs,  testLabels, verbose=2)\n",
        "\n",
        "print('\\nTest accuracy:', test_acc)"
      ],
      "execution_count": null,
      "outputs": [
        {
          "output_type": "stream",
          "text": [
            "313/313 - 0s - loss: 0.0790 - accuracy: 0.9787\n",
            "\n",
            "Test accuracy: 0.9786999821662903\n"
          ],
          "name": "stdout"
        }
      ]
    },
    {
      "cell_type": "markdown",
      "metadata": {
        "id": "KPe9aFfnzn-q"
      },
      "source": [
        "# Now Build a *CNN* Model - MNIST"
      ]
    },
    {
      "cell_type": "code",
      "metadata": {
        "id": "mhQxwLh9zn-q"
      },
      "source": [
        "mnist = keras.datasets.mnist\n",
        "\n",
        "(trainImgs, trainLabels), (testImgs, testLabels) = mnist.load_data()"
      ],
      "execution_count": null,
      "outputs": []
    },
    {
      "cell_type": "code",
      "metadata": {
        "id": "-M9BQ-i6zn-q"
      },
      "source": [
        "import keras\n",
        "\n",
        "inputs = keras.Input(shape=(28,28,1))\n",
        "#x= tf.keras.layers.experimental.preprocessing.Rescaling(1./255)(inputs)\n",
        "x = keras.layers.Conv2D(32,3, activation='relu')(inputs)\n",
        "x = keras.layers.MaxPool2D(2,2)(x)\n",
        "\n",
        "x = keras.layers.Conv2D(32,3, activation='relu')(x)\n",
        "x = keras.layers.MaxPool2D(2,2)(x)\n",
        "\n",
        "x = keras.layers.Flatten()(x)\n",
        "x = keras.layers.Dense(128, activation='relu')(x)\n",
        "outputs = keras.layers.Dense(10, activation='softmax')(x)\n",
        "\n",
        "model = keras.models.Model(inputs = inputs, outputs = outputs)"
      ],
      "execution_count": null,
      "outputs": []
    },
    {
      "cell_type": "code",
      "metadata": {
        "id": "acpitZCXzn-q"
      },
      "source": [
        "model.compile(optimizer='adam',\n",
        "              loss=tf.keras.losses.SparseCategoricalCrossentropy(from_logits=False),\n",
        "              metrics=['accuracy'])"
      ],
      "execution_count": null,
      "outputs": []
    },
    {
      "cell_type": "code",
      "metadata": {
        "colab": {
          "base_uri": "https://localhost:8080/"
        },
        "id": "AYgn6Os_zn-q",
        "outputId": "780ac8cb-07be-4616-f096-17da52e78d56"
      },
      "source": [
        "model.summary()"
      ],
      "execution_count": null,
      "outputs": [
        {
          "output_type": "stream",
          "text": [
            "Model: \"functional_3\"\n",
            "_________________________________________________________________\n",
            "Layer (type)                 Output Shape              Param #   \n",
            "=================================================================\n",
            "input_2 (InputLayer)         [(None, 28, 28, 1)]       0         \n",
            "_________________________________________________________________\n",
            "conv2d (Conv2D)              (None, 26, 26, 32)        320       \n",
            "_________________________________________________________________\n",
            "max_pooling2d (MaxPooling2D) (None, 13, 13, 32)        0         \n",
            "_________________________________________________________________\n",
            "conv2d_1 (Conv2D)            (None, 11, 11, 32)        9248      \n",
            "_________________________________________________________________\n",
            "max_pooling2d_1 (MaxPooling2 (None, 5, 5, 32)          0         \n",
            "_________________________________________________________________\n",
            "flatten_1 (Flatten)          (None, 800)               0         \n",
            "_________________________________________________________________\n",
            "dense_3 (Dense)              (None, 128)               102528    \n",
            "_________________________________________________________________\n",
            "dense_4 (Dense)              (None, 10)                1290      \n",
            "=================================================================\n",
            "Total params: 113,386\n",
            "Trainable params: 113,386\n",
            "Non-trainable params: 0\n",
            "_________________________________________________________________\n"
          ],
          "name": "stdout"
        }
      ]
    },
    {
      "cell_type": "code",
      "metadata": {
        "id": "CMZ7Sy5l02dy"
      },
      "source": [
        "trainImgs= np.expand_dims(trainImgs,axis=3)\n",
        "testImgs= np.expand_dims(testImgs,axis=3)"
      ],
      "execution_count": null,
      "outputs": []
    },
    {
      "cell_type": "code",
      "metadata": {
        "colab": {
          "base_uri": "https://localhost:8080/"
        },
        "id": "0G3b9DAy1af_",
        "outputId": "e06349d5-ced4-40a1-8e6d-643990da8018"
      },
      "source": [
        "trainImgs.shape"
      ],
      "execution_count": null,
      "outputs": [
        {
          "output_type": "execute_result",
          "data": {
            "text/plain": [
              "(60000, 28, 28, 1)"
            ]
          },
          "metadata": {
            "tags": []
          },
          "execution_count": 38
        }
      ]
    },
    {
      "cell_type": "code",
      "metadata": {
        "id": "j_jMgLKH2lwB"
      },
      "source": [
        ""
      ],
      "execution_count": null,
      "outputs": []
    },
    {
      "cell_type": "code",
      "metadata": {
        "id": "cW07Y09Lzn-r"
      },
      "source": [
        "trainImgs = trainImgs/255.0\n",
        "testImgs = testImgs/255.0"
      ],
      "execution_count": null,
      "outputs": []
    },
    {
      "cell_type": "code",
      "metadata": {
        "id": "dWloRyqrzn-r"
      },
      "source": [
        ""
      ],
      "execution_count": null,
      "outputs": []
    },
    {
      "cell_type": "code",
      "metadata": {
        "colab": {
          "base_uri": "https://localhost:8080/"
        },
        "id": "NeZbGXchzn-r",
        "outputId": "7b6e9fec-a453-4f8d-beee-0405117ca26d"
      },
      "source": [
        "trainImgs.shape"
      ],
      "execution_count": null,
      "outputs": [
        {
          "output_type": "execute_result",
          "data": {
            "text/plain": [
              "(60000, 28, 28, 1)"
            ]
          },
          "metadata": {
            "tags": []
          },
          "execution_count": 40
        }
      ]
    },
    {
      "cell_type": "code",
      "metadata": {
        "id": "HZXG8Yfdzn-r"
      },
      "source": [
        "#trainLabels= np.expand_dims(trainLabels,axis=1)\n",
        "#testLabels= np.expand_dims(testLabels,axis=1)"
      ],
      "execution_count": null,
      "outputs": []
    },
    {
      "cell_type": "code",
      "metadata": {
        "colab": {
          "base_uri": "https://localhost:8080/"
        },
        "id": "HLFiC57Rzn-r",
        "outputId": "0bd7a339-b6d8-4f1a-b1c2-2ad283e5955d"
      },
      "source": [
        "trainLabels.shape"
      ],
      "execution_count": null,
      "outputs": [
        {
          "output_type": "execute_result",
          "data": {
            "text/plain": [
              "(60000,)"
            ]
          },
          "metadata": {
            "tags": []
          },
          "execution_count": 41
        }
      ]
    },
    {
      "cell_type": "code",
      "metadata": {
        "colab": {
          "base_uri": "https://localhost:8080/"
        },
        "id": "4_N8zP8fzn-r",
        "outputId": "df549ba1-acf5-4225-9fd4-07fd3376a285"
      },
      "source": [
        "model.fit(trainImgs, trainLabels, epochs=5, validation_data=(testImgs, testLabels))\n"
      ],
      "execution_count": null,
      "outputs": [
        {
          "output_type": "stream",
          "text": [
            "Epoch 1/5\n",
            "1875/1875 [==============================] - 5s 3ms/step - loss: 0.1420 - accuracy: 0.9577 - val_loss: 0.0521 - val_accuracy: 0.9826\n",
            "Epoch 2/5\n",
            "1875/1875 [==============================] - 5s 3ms/step - loss: 0.0468 - accuracy: 0.9854 - val_loss: 0.0306 - val_accuracy: 0.9888\n",
            "Epoch 3/5\n",
            "1875/1875 [==============================] - 5s 3ms/step - loss: 0.0334 - accuracy: 0.9899 - val_loss: 0.0396 - val_accuracy: 0.9879\n",
            "Epoch 4/5\n",
            "1875/1875 [==============================] - 5s 3ms/step - loss: 0.0256 - accuracy: 0.9918 - val_loss: 0.0283 - val_accuracy: 0.9909\n",
            "Epoch 5/5\n",
            "1875/1875 [==============================] - 5s 3ms/step - loss: 0.0194 - accuracy: 0.9940 - val_loss: 0.0312 - val_accuracy: 0.9896\n"
          ],
          "name": "stdout"
        },
        {
          "output_type": "execute_result",
          "data": {
            "text/plain": [
              "<tensorflow.python.keras.callbacks.History at 0x7fbbb70cf898>"
            ]
          },
          "metadata": {
            "tags": []
          },
          "execution_count": 42
        }
      ]
    },
    {
      "cell_type": "code",
      "metadata": {
        "colab": {
          "base_uri": "https://localhost:8080/"
        },
        "id": "PmYE6qOKzn-r",
        "outputId": "6ab9d557-162d-4ff3-e4f7-f11455943746"
      },
      "source": [
        "test_loss, test_acc = model.evaluate(testImgs,  testLabels, verbose=2)\n",
        "\n",
        "print('\\nTest accuracy:', test_acc)"
      ],
      "execution_count": null,
      "outputs": [
        {
          "output_type": "stream",
          "text": [
            "313/313 - 1s - loss: 0.0312 - accuracy: 0.9896\n",
            "\n",
            "Test accuracy: 0.9896000027656555\n"
          ],
          "name": "stdout"
        }
      ]
    },
    {
      "cell_type": "code",
      "metadata": {
        "id": "pzCug0vQzn-r"
      },
      "source": [
        "layer_outputs = model.layers[4].output\n",
        "activation_model = tf.keras.models.Model(inputs = model.input, outputs = layer_outputs)"
      ],
      "execution_count": null,
      "outputs": []
    },
    {
      "cell_type": "code",
      "metadata": {
        "id": "VzswtGyrzn-r"
      },
      "source": [
        "output_features=activation_model.predict(testImgs[0].reshape(1,28,28,1))\n",
        "\n",
        "\n"
      ],
      "execution_count": null,
      "outputs": []
    },
    {
      "cell_type": "code",
      "metadata": {
        "colab": {
          "base_uri": "https://localhost:8080/"
        },
        "id": "xHDEKWTKzn-r",
        "outputId": "242b6887-3423-4602-e6dd-bb7b0ea4c98f"
      },
      "source": [
        "output_features.shape"
      ],
      "execution_count": null,
      "outputs": [
        {
          "output_type": "execute_result",
          "data": {
            "text/plain": [
              "(1, 5, 5, 32)"
            ]
          },
          "metadata": {
            "tags": []
          },
          "execution_count": 46
        }
      ]
    },
    {
      "cell_type": "code",
      "metadata": {
        "colab": {
          "base_uri": "https://localhost:8080/",
          "height": 282
        },
        "id": "9afgGfPkzn-r",
        "outputId": "5d43825f-b56c-4314-a7d0-90e13f93ddaa"
      },
      "source": [
        "output_features.shape\n",
        "plt.imshow(output_features[0,:,:,0])"
      ],
      "execution_count": null,
      "outputs": [
        {
          "output_type": "execute_result",
          "data": {
            "text/plain": [
              "<matplotlib.image.AxesImage at 0x7fbbb74bffd0>"
            ]
          },
          "metadata": {
            "tags": []
          },
          "execution_count": 47
        },
        {
          "output_type": "display_data",
          "data": {
            "image/png": "[encoded data removed]",
            "text/plain": [
              "<Figure size 432x288 with 1 Axes>"
            ]
          },
          "metadata": {
            "tags": [],
            "needs_background": "light"
          }
        }
      ]
    },
    {
      "cell_type": "code",
      "metadata": {
        "colab": {
          "base_uri": "https://localhost:8080/"
        },
        "id": "8Qy814bU8ypE",
        "outputId": "753e8e38-149d-4931-aded-0b96a5da1d12"
      },
      "source": [
        "testLabels[0:10]"
      ],
      "execution_count": null,
      "outputs": [
        {
          "output_type": "execute_result",
          "data": {
            "text/plain": [
              "array([7, 2, 1, 0, 4, 1, 4, 9, 5, 9], dtype=uint8)"
            ]
          },
          "metadata": {
            "tags": []
          },
          "execution_count": 48
        }
      ]
    },
    {
      "cell_type": "code",
      "metadata": {
        "colab": {
          "base_uri": "https://localhost:8080/",
          "height": 987
        },
        "id": "aEa9txVjzn-r",
        "outputId": "2169ac55-eff9-4310-9814-9a54f9908477"
      },
      "source": [
        "FIRST_IMAGE=0\n",
        "plt.figure(figsize=(10,10))\n",
        "print(len(model.layers))\n",
        "for layer_index in range(1,4):\n",
        "  layer_outputs = model.layers[layer_index].output\n",
        "  print('layeroutput.shape',layer_outputs.shape)\n",
        "  activation_model = tf.keras.models.Model(inputs = model.input, outputs = layer_outputs)\n",
        "\n",
        "  output_features=activation_model.predict(testImgs[FIRST_IMAGE].reshape(1,28,28,1))\n",
        "  print(layer_index, output_features.shape)\n",
        "  for i in range(4):\n",
        "    plt.subplot(4,4,(i+1)+4*layer_index)\n",
        "    print(output_features.shape)\n",
        "    print(output_features[0,:,:,i+10].shape)\n",
        "    plt.imshow(output_features[0,:,:,i])"
      ],
      "execution_count": null,
      "outputs": [
        {
          "output_type": "stream",
          "text": [
            "8\n",
            "layeroutput.shape (None, 26, 26, 32)\n",
            "1 (1, 26, 26, 32)\n",
            "(1, 26, 26, 32)\n",
            "(26, 26)\n",
            "(1, 26, 26, 32)\n",
            "(26, 26)\n",
            "(1, 26, 26, 32)\n",
            "(26, 26)\n",
            "(1, 26, 26, 32)\n",
            "(26, 26)\n",
            "layeroutput.shape (None, 13, 13, 32)\n",
            "2 (1, 13, 13, 32)\n",
            "(1, 13, 13, 32)\n",
            "(13, 13)\n",
            "(1, 13, 13, 32)\n",
            "(13, 13)\n",
            "(1, 13, 13, 32)\n",
            "(13, 13)\n",
            "(1, 13, 13, 32)\n",
            "(13, 13)\n",
            "layeroutput.shape (None, 11, 11, 32)\n",
            "3 (1, 11, 11, 32)\n",
            "(1, 11, 11, 32)\n",
            "(11, 11)\n",
            "(1, 11, 11, 32)\n",
            "(11, 11)\n",
            "(1, 11, 11, 32)\n",
            "(11, 11)\n",
            "(1, 11, 11, 32)\n",
            "(11, 11)\n"
          ],
          "name": "stdout"
        },
        {
          "output_type": "display_data",
          "data": {
            "image/png": "[encoded data removed]",
            "text/plain": [
              "<Figure size 720x720 with 12 Axes>"
            ]
          },
          "metadata": {
            "tags": [],
            "needs_background": "light"
          }
        }
      ]
    },
    {
      "cell_type": "code",
      "metadata": {
        "id": "GYZzFZcAzn-r"
      },
      "source": [
        ""
      ],
      "execution_count": null,
      "outputs": []
    }
  ]
}